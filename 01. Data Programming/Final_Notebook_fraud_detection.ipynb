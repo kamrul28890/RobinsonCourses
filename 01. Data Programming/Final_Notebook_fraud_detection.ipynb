{
 "cells": [
  {
   "cell_type": "markdown",
   "metadata": {},
   "source": [
    "## Data science assessment - Fraud data\n",
    "\n",
    "### High-level problem statement\n",
    "E-commerce websites often transact huge amounts of money. Whenever a huge amount of money is moved, there is a high risk of users performing fraudulent activities, e.g. using stolen credit cards, laundering money, etc. \n",
    "\n",
    "### Objective\n",
    "The goal of this challenge is to build a machine learning model that predicts the probability that the first transaction of a new user is fraudulent.\n",
    "\n",
    "### Details\n",
    "Electronica is an e-commerce site that sells wholesale electronics. You have been contracted to build a model that predicts whether a given transaction is fraudulent or not. You only have information about each user’s first transaction on Electronica’s website. \n",
    "\n",
    "### Solution\n",
    "- Setting up this problem as a classical binary classification (fraud vs. no fraud)\n",
    "- Metric of evaluation: \n",
    "    - This classification problem is interesting because of the class imbalance. As such, we cannot rely only on the accuracy of classification. As such, we account for both 'true positives' and 'true negatives'.\n",
    "    - Total monetary loss calculated using the following logic: \n",
    "        - If you fail to identify a fraudulent transaction, Electronica loses money equivalent to the price of the fraudulently purchased product. \n",
    "        - If you incorrectly flag a real transaction as fraudulent, it inconveniences the Electronica customers whose valid transactions are flagged—a cost your client values at USD 8.\n",
    "\n",
    "### Experiments\n",
    "- Since number of fraudulent transactions is sparse, these kind of problems exhibit class imbalance. Experimenting with imblearn to handle the imbalance.\n",
    "- Experimenting with two approaches to solve the problem -  \n",
    "    - using Random Forest Classifier, without balancing, as the baseline model and \n",
    "    - using Balanced random forest to achieve a better performance.\n",
    "- The total data is split into 'train' and 'test' datasets. The holdout dataset is used for testing the performance.\n",
    "\n",
    "### Other details\n",
    "- Along with this notebook, there are other notebooks in the folder that were used for experiments and saving desired implementations as python scripts. Those python scripts are used in this notebook.\n",
    "- Steps to apply the model on the new dataset (hold out as mentioned in the problem description) is detailed in the last cell of this notebook.\n",
    "- As a sample performance check, the entire dataset is used as test data in the last cell."
   ]
  },
  {
   "cell_type": "code",
   "execution_count": 1,
   "metadata": {},
   "outputs": [],
   "source": [
    "%matplotlib inline\n",
    "import numpy as np\n",
    "import pandas as pd\n",
    "from matplotlib import pyplot as plt"
   ]
  },
  {
   "cell_type": "markdown",
   "metadata": {},
   "source": [
    "## 1. Data ingestion"
   ]
  },
  {
   "cell_type": "code",
   "execution_count": 2,
   "metadata": {},
   "outputs": [],
   "source": [
    "from myScripts.dataingestion import join_datasets\n",
    "output_path = 'Analysis_dataset.csv' ## using the pre-saved file\n",
    "\n",
    "## Need to run this step to generate it\n",
    "# analysis_df = join_datasets('Candidate_tech_evaluation_candidate_copy_data science_fraud.csv',\n",
    "#                             'Candidate_tech_evaluation_candidate_copy_datascience_IpAddress_to_Country.xlsx', output_path)\n",
    "# analysis_df.head()"
   ]
  },
  {
   "cell_type": "markdown",
   "metadata": {},
   "source": [
    "## 2. Feature Engineering"
   ]
  },
  {
   "cell_type": "code",
   "execution_count": 3,
   "metadata": {},
   "outputs": [
    {
     "data": {
      "text/html": [
       "<div>\n",
       "<style scoped>\n",
       "    .dataframe tbody tr th:only-of-type {\n",
       "        vertical-align: middle;\n",
       "    }\n",
       "\n",
       "    .dataframe tbody tr th {\n",
       "        vertical-align: top;\n",
       "    }\n",
       "\n",
       "    .dataframe thead th {\n",
       "        text-align: right;\n",
       "    }\n",
       "</style>\n",
       "<table border=\"1\" class=\"dataframe\">\n",
       "  <thead>\n",
       "    <tr style=\"text-align: right;\">\n",
       "      <th></th>\n",
       "      <th></th>\n",
       "      <th>ratio_fraud_device_id</th>\n",
       "      <th>num_trans_device_id</th>\n",
       "      <th>ratio_fraud_country</th>\n",
       "      <th>num_trans_country</th>\n",
       "      <th>ratio_fraud_sex</th>\n",
       "      <th>num_trans_sex</th>\n",
       "      <th>age</th>\n",
       "      <th>ratio_fraud_age</th>\n",
       "      <th>num_trans_age</th>\n",
       "      <th>ratio_fraud_browser</th>\n",
       "      <th>num_trans_browser</th>\n",
       "      <th>ratio_fraud_source</th>\n",
       "      <th>num_trans_source</th>\n",
       "      <th>purchase_value</th>\n",
       "      <th>class</th>\n",
       "      <th>time_latency</th>\n",
       "      <th>country</th>\n",
       "      <th>sex</th>\n",
       "      <th>browser</th>\n",
       "      <th>source</th>\n",
       "    </tr>\n",
       "    <tr>\n",
       "      <th>user_id</th>\n",
       "      <th>device_id</th>\n",
       "      <th></th>\n",
       "      <th></th>\n",
       "      <th></th>\n",
       "      <th></th>\n",
       "      <th></th>\n",
       "      <th></th>\n",
       "      <th></th>\n",
       "      <th></th>\n",
       "      <th></th>\n",
       "      <th></th>\n",
       "      <th></th>\n",
       "      <th></th>\n",
       "      <th></th>\n",
       "      <th></th>\n",
       "      <th></th>\n",
       "      <th></th>\n",
       "      <th></th>\n",
       "      <th></th>\n",
       "      <th></th>\n",
       "      <th></th>\n",
       "    </tr>\n",
       "  </thead>\n",
       "  <tbody>\n",
       "    <tr>\n",
       "      <th>285108</th>\n",
       "      <th>HZAKVUFTDOSFD</th>\n",
       "      <td>0.0</td>\n",
       "      <td>2.0</td>\n",
       "      <td>0.096830</td>\n",
       "      <td>46184.0</td>\n",
       "      <td>0.095442</td>\n",
       "      <td>70126</td>\n",
       "      <td>49</td>\n",
       "      <td>0.056534</td>\n",
       "      <td>1079.0</td>\n",
       "      <td>0.099441</td>\n",
       "      <td>48652</td>\n",
       "      <td>0.105643</td>\n",
       "      <td>24242</td>\n",
       "      <td>31</td>\n",
       "      <td>0</td>\n",
       "      <td>1377.683333</td>\n",
       "      <td>167</td>\n",
       "      <td>1</td>\n",
       "      <td>0</td>\n",
       "      <td>1</td>\n",
       "    </tr>\n",
       "    <tr>\n",
       "      <th>369076</th>\n",
       "      <th>HZAKVUFTDOSFD</th>\n",
       "      <td>0.0</td>\n",
       "      <td>2.0</td>\n",
       "      <td>0.115188</td>\n",
       "      <td>2344.0</td>\n",
       "      <td>0.095442</td>\n",
       "      <td>70126</td>\n",
       "      <td>43</td>\n",
       "      <td>0.084140</td>\n",
       "      <td>2686.0</td>\n",
       "      <td>0.091743</td>\n",
       "      <td>19620</td>\n",
       "      <td>0.091696</td>\n",
       "      <td>47461</td>\n",
       "      <td>40</td>\n",
       "      <td>0</td>\n",
       "      <td>1372.683333</td>\n",
       "      <td>30</td>\n",
       "      <td>1</td>\n",
       "      <td>4</td>\n",
       "      <td>0</td>\n",
       "    </tr>\n",
       "    <tr>\n",
       "      <th>131009</th>\n",
       "      <th>XGQAJSOUJIZCC</th>\n",
       "      <td>0.0</td>\n",
       "      <td>1.0</td>\n",
       "      <td>0.103911</td>\n",
       "      <td>3580.0</td>\n",
       "      <td>0.091671</td>\n",
       "      <td>49874</td>\n",
       "      <td>21</td>\n",
       "      <td>0.079291</td>\n",
       "      <td>2989.0</td>\n",
       "      <td>0.086107</td>\n",
       "      <td>29138</td>\n",
       "      <td>0.090109</td>\n",
       "      <td>48297</td>\n",
       "      <td>31</td>\n",
       "      <td>0</td>\n",
       "      <td>1888.400000</td>\n",
       "      <td>166</td>\n",
       "      <td>0</td>\n",
       "      <td>2</td>\n",
       "      <td>2</td>\n",
       "    </tr>\n",
       "    <tr>\n",
       "      <th>328855</th>\n",
       "      <th>VCCTAYDCWKZIY</th>\n",
       "      <td>0.0</td>\n",
       "      <td>1.0</td>\n",
       "      <td>0.096830</td>\n",
       "      <td>46184.0</td>\n",
       "      <td>0.095442</td>\n",
       "      <td>70126</td>\n",
       "      <td>26</td>\n",
       "      <td>0.076906</td>\n",
       "      <td>4460.0</td>\n",
       "      <td>0.086107</td>\n",
       "      <td>29138</td>\n",
       "      <td>0.105643</td>\n",
       "      <td>24242</td>\n",
       "      <td>16</td>\n",
       "      <td>0</td>\n",
       "      <td>611.483333</td>\n",
       "      <td>167</td>\n",
       "      <td>1</td>\n",
       "      <td>2</td>\n",
       "      <td>1</td>\n",
       "    </tr>\n",
       "    <tr>\n",
       "      <th>229053</th>\n",
       "      <th>MFFIHYNXCJLEY</th>\n",
       "      <td>0.0</td>\n",
       "      <td>1.0</td>\n",
       "      <td>0.091589</td>\n",
       "      <td>3341.0</td>\n",
       "      <td>0.095442</td>\n",
       "      <td>70126</td>\n",
       "      <td>34</td>\n",
       "      <td>0.088694</td>\n",
       "      <td>5006.0</td>\n",
       "      <td>0.099441</td>\n",
       "      <td>48652</td>\n",
       "      <td>0.090109</td>\n",
       "      <td>48297</td>\n",
       "      <td>29</td>\n",
       "      <td>0</td>\n",
       "      <td>44.883333</td>\n",
       "      <td>86</td>\n",
       "      <td>1</td>\n",
       "      <td>0</td>\n",
       "      <td>2</td>\n",
       "    </tr>\n",
       "  </tbody>\n",
       "</table>\n",
       "</div>"
      ],
      "text/plain": [
       "                       ratio_fraud_device_id  num_trans_device_id  \\\n",
       "user_id device_id                                                   \n",
       "285108  HZAKVUFTDOSFD                    0.0                  2.0   \n",
       "369076  HZAKVUFTDOSFD                    0.0                  2.0   \n",
       "131009  XGQAJSOUJIZCC                    0.0                  1.0   \n",
       "328855  VCCTAYDCWKZIY                    0.0                  1.0   \n",
       "229053  MFFIHYNXCJLEY                    0.0                  1.0   \n",
       "\n",
       "                       ratio_fraud_country  num_trans_country  \\\n",
       "user_id device_id                                               \n",
       "285108  HZAKVUFTDOSFD             0.096830            46184.0   \n",
       "369076  HZAKVUFTDOSFD             0.115188             2344.0   \n",
       "131009  XGQAJSOUJIZCC             0.103911             3580.0   \n",
       "328855  VCCTAYDCWKZIY             0.096830            46184.0   \n",
       "229053  MFFIHYNXCJLEY             0.091589             3341.0   \n",
       "\n",
       "                       ratio_fraud_sex  num_trans_sex  age  ratio_fraud_age  \\\n",
       "user_id device_id                                                             \n",
       "285108  HZAKVUFTDOSFD         0.095442          70126   49         0.056534   \n",
       "369076  HZAKVUFTDOSFD         0.095442          70126   43         0.084140   \n",
       "131009  XGQAJSOUJIZCC         0.091671          49874   21         0.079291   \n",
       "328855  VCCTAYDCWKZIY         0.095442          70126   26         0.076906   \n",
       "229053  MFFIHYNXCJLEY         0.095442          70126   34         0.088694   \n",
       "\n",
       "                       num_trans_age  ratio_fraud_browser  num_trans_browser  \\\n",
       "user_id device_id                                                              \n",
       "285108  HZAKVUFTDOSFD         1079.0             0.099441              48652   \n",
       "369076  HZAKVUFTDOSFD         2686.0             0.091743              19620   \n",
       "131009  XGQAJSOUJIZCC         2989.0             0.086107              29138   \n",
       "328855  VCCTAYDCWKZIY         4460.0             0.086107              29138   \n",
       "229053  MFFIHYNXCJLEY         5006.0             0.099441              48652   \n",
       "\n",
       "                       ratio_fraud_source  num_trans_source  purchase_value  \\\n",
       "user_id device_id                                                             \n",
       "285108  HZAKVUFTDOSFD            0.105643             24242              31   \n",
       "369076  HZAKVUFTDOSFD            0.091696             47461              40   \n",
       "131009  XGQAJSOUJIZCC            0.090109             48297              31   \n",
       "328855  VCCTAYDCWKZIY            0.105643             24242              16   \n",
       "229053  MFFIHYNXCJLEY            0.090109             48297              29   \n",
       "\n",
       "                       class  time_latency  country  sex  browser  source  \n",
       "user_id device_id                                                          \n",
       "285108  HZAKVUFTDOSFD      0   1377.683333      167    1        0       1  \n",
       "369076  HZAKVUFTDOSFD      0   1372.683333       30    1        4       0  \n",
       "131009  XGQAJSOUJIZCC      0   1888.400000      166    0        2       2  \n",
       "328855  VCCTAYDCWKZIY      0    611.483333      167    1        2       1  \n",
       "229053  MFFIHYNXCJLEY      0     44.883333       86    1        0       2  "
      ]
     },
     "execution_count": 3,
     "metadata": {},
     "output_type": "execute_result"
    }
   ],
   "source": [
    "from myScripts import featureengineering\n",
    "feature_df = featureengineering.create_features(output_path)\n",
    "feature_df.head()"
   ]
  },
  {
   "cell_type": "markdown",
   "metadata": {},
   "source": [
    "## 3. Create models and compare performance using test data"
   ]
  },
  {
   "cell_type": "code",
   "execution_count": 4,
   "metadata": {},
   "outputs": [],
   "source": [
    "from myScripts.apply_classifier_model import apply_train_test_split\n",
    "\n",
    "from myScripts.apply_classifier_model import apply_RF_classifier\n",
    "from myScripts.apply_classifier_model import apply_balanced_RF_classifier\n",
    "\n",
    "from myScripts.apply_classifier_model import plot_confusion_matrix\n",
    "from myScripts.apply_classifier_model import calculate_total_loss\n",
    "from myScripts.apply_classifier_model import load_models\n",
    "from sklearn.metrics import confusion_matrix\n",
    "\n",
    "## Train and test split\n",
    "X_train, X_test, y_train, y_test = apply_train_test_split(feature_df, test_size = 0.4)\n",
    "\n",
    "## Create and save models\n",
    "RF_model = apply_RF_classifier(X_train, y_train, 'RF_model.joblib')\n",
    "\n",
    "## Create and save models\n",
    "BRF_model = apply_balanced_RF_classifier(X_train, y_train, 'BRF_model.joblib')"
   ]
  },
  {
   "cell_type": "code",
   "execution_count": 5,
   "metadata": {},
   "outputs": [
    {
     "name": "stdout",
     "output_type": "stream",
     "text": [
      "Normalized confusion matrix\n",
      "[[0.995012 0.004988]\n",
      " [0.061193 0.938807]]\n"
     ]
    },
    {
     "data": {
      "image/png": "[encoded data removed]",
      "text/plain": [
       "<Figure size 432x288 with 2 Axes>"
      ]
     },
     "metadata": {
      "needs_background": "light"
     },
     "output_type": "display_data"
    }
   ],
   "source": [
    "# Predict the values using the RF Classifier\n",
    "# Load from the pickled file\n",
    "RF_model = load_models('RF_model.joblib')\n",
    "RF_y_predicted = RF_model.predict(X_test)\n",
    "\n",
    "## Predict probablities of RF Classifier\n",
    "RF_y_pred_prob = RF_model.predict_proba(X_test)\n",
    "\n",
    "# Compute confusion matrix\n",
    "cnf_matrix = confusion_matrix(y_test, RF_y_predicted)\n",
    "np.set_printoptions(precision=6)\n",
    "\n",
    "# Plot normalized confusion matrix\n",
    "plt.figure()\n",
    "plot_confusion_matrix(cnf_matrix, classes=['Non-Fraud', 'Fraud'], normalize=True,\n",
    "                      title='Normalized confusion matrix')"
   ]
  },
  {
   "cell_type": "code",
   "execution_count": 6,
   "metadata": {},
   "outputs": [
    {
     "name": "stdout",
     "output_type": "stream",
     "text": [
      "Normalized confusion matrix\n",
      "[[0.984485 0.015515]\n",
      " [0.001113 0.998887]]\n"
     ]
    },
    {
     "data": {
      "image/png": "[encoded data removed]",
      "text/plain": [
       "<Figure size 432x288 with 2 Axes>"
      ]
     },
     "metadata": {
      "needs_background": "light"
     },
     "output_type": "display_data"
    }
   ],
   "source": [
    "# Predict the values using the Balanced RF Classifier\n",
    "# Load from the pickled file\n",
    "BRF_model = load_models('BRF_model.joblib')\n",
    "\n",
    "# Predict the values using the Decision Tree Classifier\n",
    "BRF_y_predicted = BRF_model.predict(X_test)\n",
    "\n",
    "## Predict probablities of Decision Tree Classifier\n",
    "BRF_y_pred_prob = BRF_model.predict_proba(X_test)\n",
    "\n",
    "# Compute confusion matrix\n",
    "cnf_matrix = confusion_matrix(y_test, BRF_y_predicted)\n",
    "np.set_printoptions(precision=6)\n",
    "\n",
    "# Plot normalized confusion matrix\n",
    "plt.figure()\n",
    "plot_confusion_matrix(cnf_matrix, classes=['Non-Fraud', 'Fraud'], normalize=True,\n",
    "                      title='Normalized confusion matrix')"
   ]
  },
  {
   "cell_type": "code",
   "execution_count": 7,
   "metadata": {},
   "outputs": [
    {
     "name": "stdout",
     "output_type": "stream",
     "text": [
      "Total loss in dollar amounts using RF classifier =  11588.0\n",
      "Total loss in dollar amounts using balanced RF classifier =  5545.0\n"
     ]
    }
   ],
   "source": [
    "# Calculate total loss in dollars using DT classifier\n",
    "print('Total loss in dollar amounts using RF classifier = ', calculate_total_loss(X_test, y_test, RF_y_predicted))\n",
    "\n",
    "# Calculate total loss in dollars using RF classifier\n",
    "print('Total loss in dollar amounts using balanced RF classifier = ', calculate_total_loss(X_test, y_test, BRF_y_predicted))"
   ]
  },
  {
   "cell_type": "markdown",
   "metadata": {},
   "source": [
    "#### Clearly balanced random forest performs better than the regular method."
   ]
  },
  {
   "cell_type": "code",
   "execution_count": 8,
   "metadata": {},
   "outputs": [
    {
     "name": "stdout",
     "output_type": "stream",
     "text": [
      "Normalized confusion matrix\n",
      "[[9.847502e-01 1.524978e-02]\n",
      " [5.383097e-04 9.994617e-01]]\n"
     ]
    },
    {
     "data": {
      "image/png": "[encoded data removed]",
      "text/plain": [
       "<Figure size 432x288 with 2 Axes>"
      ]
     },
     "metadata": {
      "needs_background": "light"
     },
     "output_type": "display_data"
    }
   ],
   "source": [
    "## 5. Applying test on the new dataset\n",
    "\n",
    "# new_data_path = <new_data_path>\n",
    "# output_path = <output_path>\n",
    "\n",
    "# from myScripts.dataingestion import join_datasets\n",
    "# new_analysis_df = join_datasets(path_to_new_data,\n",
    "#                             'Candidate_tech_evaluation_candidate_copy_datascience_IpAddress_to_Country.xlsx', output_path)\n",
    "# new_analysis_df.head()\n",
    "\n",
    "# from myScripts import featureengineering\n",
    "# new_feature_df = featureengineering.create_features(output_path)\n",
    "\n",
    "\n",
    "\n",
    "## in this case we'll use a subset of the training dataset\n",
    "subset_df = feature_df.sample(frac = 0.5)\n",
    "BRF_y_predicted_new = BRF_model.predict(subset_df.drop('class', axis = 1))\n",
    "\n",
    "\n",
    "## Predict probablities of balanced random forest Classifier\n",
    "BRF_y_pred_prob_new = BRF_model.predict_proba(subset_df.drop('class', axis = 1))\n",
    "\n",
    "# Compute confusion matrix\n",
    "cnf_matrix = confusion_matrix(subset_df['class'], BRF_y_predicted_new)\n",
    "np.set_printoptions(precision=6)\n",
    "\n",
    "# Plot normalized confusion matrix\n",
    "plt.figure()\n",
    "plot_confusion_matrix(cnf_matrix, classes=['Non-Fraud', 'Fraud'], normalize=True,\n",
    "                      title='Normalized confusion matrix')"
   ]
  },
  {
   "cell_type": "code",
   "execution_count": 9,
   "metadata": {},
   "outputs": [
    {
     "name": "stdout",
     "output_type": "stream",
     "text": [
      "Total loss in dollar amounts using balanced RF classifier =  6728.0\n"
     ]
    }
   ],
   "source": [
    "# Calculate total loss in dollars using RF classifier\n",
    "print('Total loss in dollar amounts using balanced RF classifier = ', calculate_total_loss(subset_df.drop('class', axis = 1), \n",
    "                                                                                           subset_df['class'], \n",
    "                                                                                           BRF_y_predicted_new))"
   ]
  }
 ],
 "metadata": {
  "kernelspec": {
   "display_name": "Python 3",
   "language": "python",
   "name": "python3"
  },
  "language_info": {
   "codemirror_mode": {
    "name": "ipython",
    "version": 3
   },
   "file_extension": ".py",
   "mimetype": "text/x-python",
   "name": "python",
   "nbconvert_exporter": "python",
   "pygments_lexer": "ipython3",
   "version": "3.7.3"
  }
 },
 "nbformat": 4,
 "nbformat_minor": 2
}
