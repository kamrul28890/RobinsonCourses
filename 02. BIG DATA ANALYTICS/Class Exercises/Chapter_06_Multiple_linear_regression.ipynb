{
  "cells": [
    {
      "cell_type": "markdown",
      "metadata": {
        "id": "sYoyPmpxTkdj"
      },
      "source": [
        "# Chapter 6: Multiple Linear Regression\n",
        "\n",
        "> (c) 2019 Galit Shmueli, Peter C. Bruce, Peter Gedeck\n",
        ">\n",
        "> Code included in\n",
        ">\n",
        "> _Data Mining for Business Analytics: Concepts, Techniques, and Applications in Python_ (First Edition)\n",
        "> Galit Shmueli, Peter C. Bruce, Peter Gedeck, and Nitin R. Patel. 2019.\n",
        "\n",
        "## Import required packages"
      ]
    },
    {
      "cell_type": "markdown",
      "metadata": {
        "id": "aPuFwyhgTkdx"
      },
      "source": [
        "Make sure DMBA package is available\n",
        "\n",
        "> Indented block\n",
        "\n"
      ]
    },
    {
      "cell_type": "code",
      "execution_count": null,
      "metadata": {
        "execution": {
          "iopub.execute_input": "2023-06-26T14:17:51.908277Z",
          "iopub.status.busy": "2023-06-26T14:17:51.908003Z",
          "iopub.status.idle": "2023-06-26T14:17:53.346883Z",
          "shell.execute_reply": "2023-06-26T14:17:53.345481Z"
        },
        "id": "AUHHAmcpTkdz",
        "outputId": "d96a748c-f119-454f-b4f2-ad6bec2a4d9f",
        "colab": {
          "base_uri": "https://localhost:8080/"
        }
      },
      "outputs": [
        {
          "output_type": "stream",
          "name": "stdout",
          "text": [
            "Collecting dmba\n",
            "  Downloading dmba-0.2.4-py3-none-any.whl (11.8 MB)\n",
            "\u001b[2K     \u001b[90m━━━━━━━━━━━━━━━━━━━━━━━━━━━━━━━━━━━━━━━━\u001b[0m \u001b[32m11.8/11.8 MB\u001b[0m \u001b[31m22.1 MB/s\u001b[0m eta \u001b[36m0:00:00\u001b[0m\n",
            "\u001b[?25hRequirement already satisfied: graphviz in /usr/local/lib/python3.10/dist-packages (from dmba) (0.20.1)\n",
            "Requirement already satisfied: matplotlib in /usr/local/lib/python3.10/dist-packages (from dmba) (3.7.1)\n",
            "Requirement already satisfied: numpy in /usr/local/lib/python3.10/dist-packages (from dmba) (1.23.5)\n",
            "Requirement already satisfied: pandas in /usr/local/lib/python3.10/dist-packages (from dmba) (1.5.3)\n",
            "Requirement already satisfied: scikit-learn in /usr/local/lib/python3.10/dist-packages (from dmba) (1.2.2)\n",
            "Requirement already satisfied: scipy in /usr/local/lib/python3.10/dist-packages (from dmba) (1.10.1)\n",
            "Requirement already satisfied: contourpy>=1.0.1 in /usr/local/lib/python3.10/dist-packages (from matplotlib->dmba) (1.1.0)\n",
            "Requirement already satisfied: cycler>=0.10 in /usr/local/lib/python3.10/dist-packages (from matplotlib->dmba) (0.11.0)\n",
            "Requirement already satisfied: fonttools>=4.22.0 in /usr/local/lib/python3.10/dist-packages (from matplotlib->dmba) (4.42.0)\n",
            "Requirement already satisfied: kiwisolver>=1.0.1 in /usr/local/lib/python3.10/dist-packages (from matplotlib->dmba) (1.4.4)\n",
            "Requirement already satisfied: packaging>=20.0 in /usr/local/lib/python3.10/dist-packages (from matplotlib->dmba) (23.1)\n",
            "Requirement already satisfied: pillow>=6.2.0 in /usr/local/lib/python3.10/dist-packages (from matplotlib->dmba) (9.4.0)\n",
            "Requirement already satisfied: pyparsing>=2.3.1 in /usr/local/lib/python3.10/dist-packages (from matplotlib->dmba) (3.1.1)\n",
            "Requirement already satisfied: python-dateutil>=2.7 in /usr/local/lib/python3.10/dist-packages (from matplotlib->dmba) (2.8.2)\n",
            "Requirement already satisfied: pytz>=2020.1 in /usr/local/lib/python3.10/dist-packages (from pandas->dmba) (2023.3)\n",
            "Requirement already satisfied: joblib>=1.1.1 in /usr/local/lib/python3.10/dist-packages (from scikit-learn->dmba) (1.3.2)\n",
            "Requirement already satisfied: threadpoolctl>=2.0.0 in /usr/local/lib/python3.10/dist-packages (from scikit-learn->dmba) (3.2.0)\n",
            "Requirement already satisfied: six>=1.5 in /usr/local/lib/python3.10/dist-packages (from python-dateutil>=2.7->matplotlib->dmba) (1.16.0)\n",
            "Installing collected packages: dmba\n",
            "Successfully installed dmba-0.2.4\n"
          ]
        }
      ],
      "source": [
        "pip install dmba"
      ]
    },
    {
      "cell_type": "code",
      "execution_count": null,
      "metadata": {
        "execution": {
          "iopub.execute_input": "2023-06-26T14:17:53.350547Z",
          "iopub.status.busy": "2023-06-26T14:17:53.350268Z",
          "iopub.status.idle": "2023-06-26T14:17:54.567583Z",
          "shell.execute_reply": "2023-06-26T14:17:54.566116Z"
        },
        "id": "fNIq5flvTkd6"
      },
      "outputs": [],
      "source": [
        "from pathlib import Path\n",
        "import pandas as pd #data analysis\n",
        "from sklearn.model_selection import train_test_split #machine learning\n",
        "from sklearn.linear_model import LinearRegression, Lasso, Ridge, LassoCV, BayesianRidge\n",
        "import statsmodels.formula.api as sm #statistics and econometrics\n",
        "import matplotlib.pylab as plt #plotting library\n",
        "from dmba import regressionSummary, exhaustive_search\n",
        "from dmba import backward_elimination, forward_selection, stepwise_selection\n",
        "from dmba import adjusted_r2_score, AIC_score, BIC_score\n",
        "import dmba\n",
        "\n",
        "%matplotlib inline\n"
      ]
    },
    {
      "cell_type": "markdown",
      "metadata": {
        "id": "bsksJoo3Tkd_"
      },
      "source": [
        "## Table 6.3"
      ]
    },
    {
      "cell_type": "code",
      "execution_count": null,
      "metadata": {
        "execution": {
          "iopub.execute_input": "2023-06-26T14:17:54.571490Z",
          "iopub.status.busy": "2023-06-26T14:17:54.570989Z",
          "iopub.status.idle": "2023-06-26T14:17:54.604525Z",
          "shell.execute_reply": "2023-06-26T14:17:54.603490Z"
        },
        "scrolled": false,
        "id": "Uk9BKQp3TkeB",
        "outputId": "2558f2bc-ed73-41fa-d60b-78f10d9fa1f9",
        "colab": {
          "base_uri": "https://localhost:8080/"
        }
      },
      "outputs": [
        {
          "output_type": "stream",
          "name": "stdout",
          "text": [
            "<bound method NDFrame.head of      Age_08_04     KM   HP  Met_Color  Automatic    CC  Doors  Quarterly_Tax  \\\n",
            "0           23  46986   90          1          0  2000      3            210   \n",
            "1           23  72937   90          1          0  2000      3            210   \n",
            "2           24  41711   90          1          0  2000      3            210   \n",
            "3           26  48000   90          0          0  2000      3            210   \n",
            "4           30  38500   90          0          0  2000      3            210   \n",
            "..         ...    ...  ...        ...        ...   ...    ...            ...   \n",
            "995         68  42750  110          1          0  1600      3             69   \n",
            "996         67  42102  110          1          0  1600      5             85   \n",
            "997         63  41586  110          1          0  1600      5             19   \n",
            "998         64  41200  110          0          0  1600      5             85   \n",
            "999         57  40214   86          0          0  1300      3             69   \n",
            "\n",
            "     Weight  Fuel_Type_Diesel  Fuel_Type_Petrol  \n",
            "0      1165                 1                 0  \n",
            "1      1165                 1                 0  \n",
            "2      1165                 1                 0  \n",
            "3      1165                 1                 0  \n",
            "4      1170                 1                 0  \n",
            "..      ...               ...               ...  \n",
            "995    1050                 0                 1  \n",
            "996    1075                 0                 1  \n",
            "997    1114                 0                 1  \n",
            "998    1070                 0                 1  \n",
            "999    1025                 0                 1  \n",
            "\n",
            "[1000 rows x 11 columns]>\n",
            "intercept  -1319.3543800411571\n",
            "           Predictor  coefficient\n",
            "0          Age_08_04  -140.748761\n",
            "1                 KM    -0.017840\n",
            "2                 HP    36.103419\n",
            "3          Met_Color    84.281830\n",
            "4          Automatic   416.781954\n",
            "5                 CC     0.017737\n",
            "6              Doors   -50.657863\n",
            "7      Quarterly_Tax    13.625325\n",
            "8             Weight    13.038711\n",
            "9   Fuel_Type_Diesel  1066.464681\n",
            "10  Fuel_Type_Petrol  2310.249543\n",
            "\n",
            "Regression statistics\n",
            "\n",
            "                      Mean Error (ME) : 0.0000\n",
            "       Root Mean Squared Error (RMSE) : 1400.5823\n",
            "            Mean Absolute Error (MAE) : 1046.9072\n",
            "          Mean Percentage Error (MPE) : -1.0223\n",
            "Mean Absolute Percentage Error (MAPE) : 9.2994\n"
          ]
        }
      ],
      "source": [
        "# Reduce data frame to the top 1000 rows and select columns for regression analysis\n",
        "car_df = dmba.load_data('ToyotaCorolla.csv') #read the csv\n",
        "car_df = car_df.iloc[0:1000] #select the first 1000 rows\n",
        "\n",
        "predictors = ['Age_08_04', 'KM', 'Fuel_Type', 'HP', 'Met_Color', 'Automatic', 'CC',\n",
        "              'Doors', 'Quarterly_Tax', 'Weight'] #select the desired columns\n",
        "outcome = 'Price' #define the outcome variable\n",
        "\n",
        "# partition data\n",
        "X = pd.get_dummies(car_df[predictors], drop_first=True) #convert categorical variables into dummy\n",
        "\n",
        "print(X.head)\n",
        "\n",
        "y = car_df[outcome] #assign the outcome to y\n",
        "train_X, valid_X, train_y, valid_y = train_test_split(X, y, test_size=0.4, random_state=1) #partition the data to train/test\n",
        "\n",
        "car_lm = LinearRegression() #assign the linear regression model\n",
        "car_lm.fit(train_X, train_y) #linear regeression on the training set\n",
        "\n",
        "# print coefficients\n",
        "print('intercept ', car_lm.intercept_)\n",
        "print(pd.DataFrame({'Predictor': X.columns, 'coefficient': car_lm.coef_}))\n",
        "\n",
        "# print performance measures\n",
        "regressionSummary(train_y, car_lm.predict(train_X))"
      ]
    },
    {
      "cell_type": "code",
      "execution_count": null,
      "metadata": {
        "execution": {
          "iopub.execute_input": "2023-06-26T14:17:54.607825Z",
          "iopub.status.busy": "2023-06-26T14:17:54.607277Z",
          "iopub.status.idle": "2023-06-26T14:17:54.615310Z",
          "shell.execute_reply": "2023-06-26T14:17:54.614287Z"
        },
        "id": "-KUIgm1QTkeG",
        "outputId": "68b8c727-db78-4f1e-9bbb-43703baf5955",
        "colab": {
          "base_uri": "https://localhost:8080/"
        }
      },
      "outputs": [
        {
          "output_type": "stream",
          "name": "stdout",
          "text": [
            "adjusted r2 :  0.8537958550253093\n",
            "AIC :  10422.298278332171\n",
            "BIC :  10479.45836384998\n"
          ]
        }
      ],
      "source": [
        "pred_y = car_lm.predict(train_X) #prediction performance on the training set\n",
        "\n",
        "print('adjusted r2 : ', adjusted_r2_score(train_y, pred_y, car_lm))\n",
        "print('AIC : ', AIC_score(train_y, pred_y, car_lm))\n",
        "print('BIC : ', BIC_score(train_y, pred_y, car_lm))"
      ]
    },
    {
      "cell_type": "markdown",
      "metadata": {
        "id": "a3rXUreLTkeK"
      },
      "source": [
        "## Table 6.4"
      ]
    },
    {
      "cell_type": "code",
      "execution_count": null,
      "metadata": {
        "execution": {
          "iopub.execute_input": "2023-06-26T14:17:54.618493Z",
          "iopub.status.busy": "2023-06-26T14:17:54.617815Z",
          "iopub.status.idle": "2023-06-26T14:17:54.627744Z",
          "shell.execute_reply": "2023-06-26T14:17:54.626840Z"
        },
        "id": "nX-K7bGPTkeL",
        "outputId": "d0f0e7bf-310a-45ae-ccf9-85484cb231d4",
        "colab": {
          "base_uri": "https://localhost:8080/"
        }
      },
      "outputs": [
        {
          "output_type": "stream",
          "name": "stdout",
          "text": [
            "        Predicted  Actual     Residual\n",
            "507  10607.333940   11500   892.666060\n",
            "818   9272.705792    8950  -322.705792\n",
            "452  10617.947808   11450   832.052192\n",
            "368  13600.396275   11450 -2150.396275\n",
            "242  12396.694660   11950  -446.694660\n",
            "929   9496.498212    9995   498.501788\n",
            "262  12480.063217   13500  1019.936783\n",
            "810   8834.146068    7950  -884.146068\n",
            "318  12183.361282    9900 -2283.361282\n",
            "49   19206.965683   21950  2743.034317\n",
            "446  10987.498309   11950   962.501691\n",
            "142  18501.527375   19950  1448.472625\n",
            "968   9914.690947    9950    35.309053\n",
            "345  13827.299932   14950  1122.700068\n",
            "971   7966.732543   10495  2528.267457\n",
            "133  17185.242041   15950 -1235.242041\n",
            "104  19952.658062   19450  -502.658062\n",
            "6    16570.609280   16900   329.390720\n",
            "600  13739.409113   11250 -2489.409113\n",
            "496  11267.513740   11750   482.486260\n",
            "\n",
            "Regression statistics\n",
            "\n",
            "                      Mean Error (ME) : 103.6803\n",
            "       Root Mean Squared Error (RMSE) : 1312.8523\n",
            "            Mean Absolute Error (MAE) : 1017.5972\n",
            "          Mean Percentage Error (MPE) : -0.2633\n",
            "Mean Absolute Percentage Error (MAPE) : 9.0111\n"
          ]
        }
      ],
      "source": [
        "# Use predict() to make predictions on a new set\n",
        "car_lm_pred = car_lm.predict(valid_X)\n",
        "\n",
        "result = pd.DataFrame({'Predicted': car_lm_pred, 'Actual': valid_y,\n",
        "                       'Residual': valid_y - car_lm_pred}) #dataframe with three columns\n",
        "print(result.head(20))\n",
        "\n",
        "# Compute common accuracy measures\n",
        "regressionSummary(valid_y, car_lm_pred)"
      ]
    },
    {
      "cell_type": "markdown",
      "metadata": {
        "id": "qKZmhfSATkeO"
      },
      "source": [
        "## Figure 6.1\n",
        "Determine the residuals and create a histogram"
      ]
    },
    {
      "cell_type": "code",
      "execution_count": null,
      "metadata": {
        "execution": {
          "iopub.execute_input": "2023-06-26T14:17:54.630440Z",
          "iopub.status.busy": "2023-06-26T14:17:54.630109Z",
          "iopub.status.idle": "2023-06-26T14:17:54.976751Z",
          "shell.execute_reply": "2023-06-26T14:17:54.975807Z"
        },
        "id": "rL-0pHP9TkeQ"
      },
      "outputs": [],
      "source": [
        "car_lm_pred = car_lm.predict(valid_X)\n",
        "all_residuals = valid_y - car_lm_pred\n",
        "\n",
        "# Determine the percentage of datapoints with a residual in [-1406, 1406] = approx. 75\\%\n",
        "print(len(all_residuals[(all_residuals > -1406) & (all_residuals < 1406)]) / len(all_residuals))\n",
        "\n",
        "ax = pd.DataFrame({'Residuals': all_residuals}).hist(bins=25)\n",
        "\n",
        "plt.tight_layout()\n",
        "plt.show()"
      ]
    },
    {
      "cell_type": "markdown",
      "metadata": {
        "id": "3s7CO5sCTkeR"
      },
      "source": [
        "## Table 6.5\n",
        "Run an exhaustive search. The Fuel type column is categorical and needs to be converted into dummy variables."
      ]
    },
    {
      "cell_type": "code",
      "execution_count": null,
      "metadata": {
        "execution": {
          "iopub.execute_input": "2023-06-26T14:17:54.979804Z",
          "iopub.status.busy": "2023-06-26T14:17:54.979251Z",
          "iopub.status.idle": "2023-06-26T14:18:01.647741Z",
          "shell.execute_reply": "2023-06-26T14:18:01.646756Z"
        },
        "id": "tUUHVex9TkeS",
        "outputId": "9160d81e-fe28-49ae-f0c6-632d5e74ef3a",
        "colab": {
          "base_uri": "https://localhost:8080/"
        }
      },
      "outputs": [
        {
          "output_type": "stream",
          "name": "stdout",
          "text": [
            "     n     r2adj           AIC  Age_08_04  Automatic     CC  Doors  Fuel_Type_Diesel  \\\n",
            "0    1  0.767901  10689.712094       True      False  False  False             False   \n",
            "1    2  0.801160  10597.910645       True      False  False  False             False   \n",
            "2    3  0.829659  10506.084235       True      False  False  False             False   \n",
            "3    4  0.846357  10445.174820       True      False  False  False             False   \n",
            "4    5  0.849044  10435.578836       True      False  False  False             False   \n",
            "5    6  0.853172  10419.932278       True      False  False  False             False   \n",
            "6    7  0.853860  10418.104025       True      False  False  False              True   \n",
            "7    8  0.854297  10417.290103       True       True  False  False              True   \n",
            "8    9  0.854172  10418.789079       True       True  False   True              True   \n",
            "9   10  0.854036  10420.330800       True       True  False   True              True   \n",
            "10  11  0.853796  10422.298278       True       True   True   True              True   \n",
            "\n",
            "    Fuel_Type_Petrol     HP     KM  Met_Color  Quarterly_Tax  Weight  \n",
            "0              False  False  False      False          False   False  \n",
            "1              False   True  False      False          False   False  \n",
            "2              False   True  False      False          False    True  \n",
            "3              False   True   True      False          False    True  \n",
            "4              False   True   True      False           True    True  \n",
            "5               True   True   True      False           True    True  \n",
            "6               True   True   True      False           True    True  \n",
            "7               True   True   True      False           True    True  \n",
            "8               True   True   True      False           True    True  \n",
            "9               True   True   True       True           True    True  \n",
            "10              True   True   True       True           True    True  \n"
          ]
        }
      ],
      "source": [
        "def train_model(variables):\n",
        "    model = LinearRegression()\n",
        "    model.fit(train_X[variables], train_y)\n",
        "    return model\n",
        "\n",
        "def score_model(model, variables):\n",
        "    pred_y = model.predict(train_X[variables])\n",
        "    # we negate as score is optimized to be as low as possible\n",
        "    return -adjusted_r2_score(train_y, pred_y, model)\n",
        "\n",
        "allVariables = train_X.columns\n",
        "results = exhaustive_search(allVariables, train_model, score_model)\n",
        "\n",
        "data = []\n",
        "for result in results:\n",
        "    model = result['model']\n",
        "    variables = result['variables']\n",
        "    AIC = AIC_score(train_y, model.predict(train_X[variables]), model)\n",
        "\n",
        "    d = {'n': result['n'], 'r2adj': -result['score'], 'AIC': AIC}\n",
        "    d.update({var: var in result['variables'] for var in allVariables})\n",
        "    data.append(d)\n",
        "pd.set_option('display.width', 100)\n",
        "print(pd.DataFrame(data, columns=('n', 'r2adj', 'AIC') + tuple(sorted(allVariables))))\n",
        "pd.reset_option('display.width')"
      ]
    },
    {
      "cell_type": "markdown",
      "metadata": {
        "id": "CWN90BBRTkeT"
      },
      "source": [
        "## Table 6.6 backward elimination"
      ]
    },
    {
      "cell_type": "code",
      "execution_count": null,
      "metadata": {
        "execution": {
          "iopub.execute_input": "2023-06-26T14:18:01.650098Z",
          "iopub.status.busy": "2023-06-26T14:18:01.649896Z",
          "iopub.status.idle": "2023-06-26T14:18:01.774546Z",
          "shell.execute_reply": "2023-06-26T14:18:01.773877Z"
        },
        "id": "D7MVodh7TkeT"
      },
      "outputs": [],
      "source": [
        "def train_model(variables):\n",
        "    model = LinearRegression()\n",
        "    model.fit(train_X[variables], train_y)\n",
        "    return model\n",
        "\n",
        "def score_model(model, variables):\n",
        "    return AIC_score(train_y, model.predict(train_X[variables]), model)\n",
        "\n",
        "best_model, best_variables = backward_elimination(train_X.columns, train_model, score_model, verbose=True)\n",
        "\n",
        "print(best_variables)"
      ]
    },
    {
      "cell_type": "code",
      "execution_count": null,
      "metadata": {
        "execution": {
          "iopub.execute_input": "2023-06-26T14:18:01.776603Z",
          "iopub.status.busy": "2023-06-26T14:18:01.776415Z",
          "iopub.status.idle": "2023-06-26T14:18:01.782516Z",
          "shell.execute_reply": "2023-06-26T14:18:01.781800Z"
        },
        "id": "kXdKAlJETkeV"
      },
      "outputs": [],
      "source": [
        "regressionSummary(valid_y, best_model.predict(valid_X[best_variables]))"
      ]
    },
    {
      "cell_type": "markdown",
      "metadata": {
        "id": "SqK-Q8wdTkeX"
      },
      "source": [
        "## Table 6.7 Forward selection"
      ]
    },
    {
      "cell_type": "code",
      "execution_count": null,
      "metadata": {
        "execution": {
          "iopub.execute_input": "2023-06-26T14:18:01.784649Z",
          "iopub.status.busy": "2023-06-26T14:18:01.784468Z",
          "iopub.status.idle": "2023-06-26T14:18:02.019498Z",
          "shell.execute_reply": "2023-06-26T14:18:02.018457Z"
        },
        "id": "QEsnS8CtTkeX"
      },
      "outputs": [],
      "source": [
        "# The initial model is the constant model - this requires special handling\n",
        "# in train_model and score_model\n",
        "def train_model(variables):\n",
        "    if len(variables) == 0:\n",
        "        return None\n",
        "    model = LinearRegression()\n",
        "    model.fit(train_X[variables], train_y)\n",
        "    return model\n",
        "\n",
        "def score_model(model, variables):\n",
        "    if len(variables) == 0:\n",
        "        return AIC_score(train_y, [train_y.mean()] * len(train_y), model, df=1)\n",
        "    return AIC_score(train_y, model.predict(train_X[variables]), model)\n",
        "\n",
        "best_model, best_variables = forward_selection(train_X.columns, train_model, score_model, verbose=True)\n",
        "\n",
        "print(best_variables)"
      ]
    },
    {
      "cell_type": "code",
      "execution_count": null,
      "metadata": {
        "execution": {
          "iopub.execute_input": "2023-06-26T14:18:02.023231Z",
          "iopub.status.busy": "2023-06-26T14:18:02.022141Z",
          "iopub.status.idle": "2023-06-26T14:18:02.383940Z",
          "shell.execute_reply": "2023-06-26T14:18:02.383019Z"
        },
        "id": "GH1uoYRkTkeZ"
      },
      "outputs": [],
      "source": [
        "best_model, best_variables = stepwise_selection(train_X.columns, train_model, score_model, verbose=True)\n",
        "\n",
        "print(best_variables)"
      ]
    },
    {
      "cell_type": "markdown",
      "metadata": {
        "id": "ICdNlrUpTkea"
      },
      "source": [
        "## Table XX regularized methods"
      ]
    },
    {
      "cell_type": "code",
      "execution_count": null,
      "metadata": {
        "execution": {
          "iopub.execute_input": "2023-06-26T14:18:02.387086Z",
          "iopub.status.busy": "2023-06-26T14:18:02.386271Z",
          "iopub.status.idle": "2023-06-26T14:18:02.459914Z",
          "shell.execute_reply": "2023-06-26T14:18:02.458900Z"
        },
        "id": "7bk7hbpJTkea"
      },
      "outputs": [],
      "source": [
        "from sklearn.pipeline import Pipeline\n",
        "from sklearn.preprocessing import StandardScaler\n",
        "\n",
        "lasso = Pipeline([\n",
        "    ['normalize', StandardScaler()],\n",
        "    ['model', Lasso(alpha=1)],\n",
        "])\n",
        "lasso.fit(train_X, train_y)\n",
        "regressionSummary(valid_y, lasso.predict(valid_X))\n",
        "\n",
        "lasso_cv = Pipeline([\n",
        "    ['normalize', StandardScaler()],\n",
        "    ['model', LassoCV(cv=5)],\n",
        "])\n",
        "lasso_cv.fit(train_X, train_y)\n",
        "regressionSummary(valid_y, lasso_cv.predict(valid_X))\n",
        "print('Lasso-CV chosen regularization: ', lasso_cv['model'].alpha_)\n",
        "print(lasso_cv['model'].coef_)\n",
        "\n",
        "ridge = Pipeline([\n",
        "    ['normalize', StandardScaler()],\n",
        "    ['model', Ridge(alpha=1)],\n",
        "])\n",
        "ridge.fit(train_X, train_y)\n",
        "regressionSummary(valid_y, ridge.predict(valid_X))\n",
        "\n",
        "bayesianRidge = Pipeline([\n",
        "    ['normalize', StandardScaler()],\n",
        "    ['model', BayesianRidge()],\n",
        "])\n",
        "bayesianRidge.fit(train_X, train_y)\n",
        "regressionSummary(valid_y, bayesianRidge.predict(valid_X))\n",
        "print('Bayesian ridge chosen regularization: ',\n",
        "      bayesianRidge['model'].lambda_ / bayesianRidge['model'].alpha_)"
      ]
    },
    {
      "cell_type": "code",
      "execution_count": null,
      "metadata": {
        "execution": {
          "iopub.execute_input": "2023-06-26T14:18:02.463366Z",
          "iopub.status.busy": "2023-06-26T14:18:02.462819Z",
          "iopub.status.idle": "2023-06-26T14:18:02.476068Z",
          "shell.execute_reply": "2023-06-26T14:18:02.474874Z"
        },
        "id": "GOvHUB-tTkeb"
      },
      "outputs": [],
      "source": [
        "linearRegression = Pipeline([\n",
        "    ['normalize', StandardScaler()],\n",
        "    ['model', LinearRegression()],\n",
        "])\n",
        "linearRegression.fit(train_X, train_y)\n",
        "regressionSummary(valid_y, linearRegression.predict(valid_X))"
      ]
    },
    {
      "cell_type": "code",
      "execution_count": null,
      "metadata": {
        "execution": {
          "iopub.execute_input": "2023-06-26T14:18:02.479801Z",
          "iopub.status.busy": "2023-06-26T14:18:02.479207Z",
          "iopub.status.idle": "2023-06-26T14:18:02.490817Z",
          "shell.execute_reply": "2023-06-26T14:18:02.489826Z"
        },
        "id": "4EAE77O4Tkec"
      },
      "outputs": [],
      "source": [
        "pd.DataFrame({\n",
        "    'features': train_X.columns,\n",
        "    'linear regression': linearRegression['model'].coef_,\n",
        "    'lassoCV': lasso_cv['model'].coef_,\n",
        "    'bayesianRidge': bayesianRidge['model'].coef_,\n",
        "})"
      ]
    },
    {
      "cell_type": "markdown",
      "metadata": {
        "id": "hcBeXoqPTked"
      },
      "source": [
        "## Table 6.10"
      ]
    },
    {
      "cell_type": "code",
      "execution_count": null,
      "metadata": {
        "execution": {
          "iopub.execute_input": "2023-06-26T14:18:02.494166Z",
          "iopub.status.busy": "2023-06-26T14:18:02.493570Z",
          "iopub.status.idle": "2023-06-26T14:18:02.532848Z",
          "shell.execute_reply": "2023-06-26T14:18:02.531922Z"
        },
        "scrolled": false,
        "id": "MrZumslCTked"
      },
      "outputs": [],
      "source": [
        "# run a linear regression of Price on the remaining 11 predictors in the training set\n",
        "train_df = train_X.join(train_y)\n",
        "\n",
        "predictors = train_X.columns\n",
        "formula = 'Price ~ ' + ' + '.join(predictors)\n",
        "\n",
        "car_lm = sm.ols(formula=formula, data=train_df).fit()\n",
        "print(car_lm.summary())"
      ]
    },
    {
      "cell_type": "code",
      "execution_count": null,
      "metadata": {
        "id": "BXQhlCCBTkef"
      },
      "outputs": [],
      "source": []
    }
  ],
  "metadata": {
    "kernelspec": {
      "display_name": "Python 3 (ipykernel)",
      "language": "python",
      "name": "python3"
    },
    "language_info": {
      "codemirror_mode": {
        "name": "ipython",
        "version": 3
      },
      "file_extension": ".py",
      "mimetype": "text/x-python",
      "name": "python",
      "nbconvert_exporter": "python",
      "pygments_lexer": "ipython3",
      "version": "3.11.4"
    },
    "colab": {
      "provenance": []
    }
  },
  "nbformat": 4,
  "nbformat_minor": 0
}