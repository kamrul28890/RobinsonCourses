{
  "cells": [
    {
      "cell_type": "markdown",
      "metadata": {
        "id": "58dZLvhaFyMv"
      },
      "source": [
        "# Chapter 5: Evaluating Predictive Performance\n",
        "\n",
        "> (c) 2019 Galit Shmueli, Peter C. Bruce, Peter Gedeck\n",
        ">\n",
        "> Code included in\n",
        ">\n",
        "> _Data Mining for Business Analytics: Concepts, Techniques, and Applications in Python_ (First Edition)\n",
        "> Galit Shmueli, Peter C. Bruce, Peter Gedeck, and Nitin R. Patel. 2019.\n",
        "\n",
        "\n",
        "## Import required packages"
      ]
    },
    {
      "cell_type": "markdown",
      "metadata": {
        "id": "I6VKs42XFyMz"
      },
      "source": [
        "Make sure DMBA package is available"
      ]
    },
    {
      "cell_type": "code",
      "execution_count": null,
      "metadata": {
        "execution": {
          "iopub.execute_input": "2023-06-26T14:17:45.965085Z",
          "iopub.status.busy": "2023-06-26T14:17:45.964210Z",
          "iopub.status.idle": "2023-06-26T14:17:47.392707Z",
          "shell.execute_reply": "2023-06-26T14:17:47.391443Z"
        },
        "id": "7swBE2hKFyM0"
      },
      "outputs": [],
      "source": [
        "pip install dmba"
      ]
    },
    {
      "cell_type": "code",
      "execution_count": null,
      "metadata": {
        "execution": {
          "iopub.execute_input": "2023-06-26T14:17:47.396418Z",
          "iopub.status.busy": "2023-06-26T14:17:47.396134Z",
          "iopub.status.idle": "2023-06-26T14:17:48.372742Z",
          "shell.execute_reply": "2023-06-26T14:17:48.371839Z"
        },
        "id": "bC6csHBlFyM2"
      },
      "outputs": [],
      "source": [
        "import math\n",
        "from pathlib import Path\n",
        "import pandas as pd\n",
        "from sklearn.model_selection import train_test_split\n",
        "from sklearn.linear_model import LinearRegression\n",
        "from sklearn.metrics import accuracy_score, roc_curve, auc\n",
        "import matplotlib.pylab as plt\n",
        "\n",
        "import dmba\n",
        "from dmba import regressionSummary, classificationSummary, liftChart, gainsChart\n",
        "\n",
        "%matplotlib inline\n"
      ]
    },
    {
      "cell_type": "markdown",
      "metadata": {
        "id": "aIo7E0gaFyM2"
      },
      "source": [
        "## Table 5.1\n",
        "Load file and generate training and validation sets."
      ]
    },
    {
      "cell_type": "code",
      "execution_count": null,
      "metadata": {
        "execution": {
          "iopub.execute_input": "2023-06-26T14:17:48.375768Z",
          "iopub.status.busy": "2023-06-26T14:17:48.375184Z",
          "iopub.status.idle": "2023-06-26T14:17:48.421045Z",
          "shell.execute_reply": "2023-06-26T14:17:48.420410Z"
        },
        "id": "CvOGQl_0FyM3"
      },
      "outputs": [],
      "source": [
        "# Load data frame and select columns for regression analysis\n",
        "car_df = dmba.load_data('ToyotaCorolla.csv')\n",
        "\n",
        "# create a list of predictor variables by remvoing output variables and text columns\n",
        "excludeColumns = ('Price', 'Id', 'Model', 'Fuel_Type', 'Color')\n",
        "predictors = [s for s in car_df.columns if s not in excludeColumns]\n",
        "outcome = 'Price'\n",
        "\n",
        "# partition data\n",
        "X = car_df[predictors]\n",
        "y = car_df[outcome]\n",
        "train_X, valid_X, train_y, valid_y = train_test_split(X, y, test_size=0.4, random_state=1)\n",
        "\n",
        "# train linear regression model\n",
        "reg = LinearRegression()\n",
        "reg.fit(train_X, train_y)\n",
        "\n",
        "# evaluate performance\n",
        "# training\n",
        "regressionSummary(train_y, reg.predict(train_X))\n",
        "# validation\n",
        "regressionSummary(valid_y, reg.predict(valid_X))"
      ]
    },
    {
      "cell_type": "markdown",
      "metadata": {
        "id": "trhc8k2eFyM6"
      },
      "source": [
        "## Table 5.5"
      ]
    },
    {
      "cell_type": "code",
      "execution_count": 4,
      "metadata": {
        "execution": {
          "iopub.execute_input": "2023-06-26T14:17:49.637942Z",
          "iopub.status.busy": "2023-06-26T14:17:49.637570Z",
          "iopub.status.idle": "2023-06-26T14:17:49.643689Z",
          "shell.execute_reply": "2023-06-26T14:17:49.642814Z"
        },
        "id": "BThX_DsKFyM6"
      },
      "outputs": [],
      "source": [
        "owner_df = dmba.load_data('ownerExample.csv')\n",
        "owner_df.head()\n",
        "class_names = ['nonowner', 'owner']"
      ]
    },
    {
      "cell_type": "code",
      "execution_count": null,
      "metadata": {
        "execution": {
          "iopub.execute_input": "2023-06-26T14:17:49.646249Z",
          "iopub.status.busy": "2023-06-26T14:17:49.645999Z",
          "iopub.status.idle": "2023-06-26T14:17:49.654005Z",
          "shell.execute_reply": "2023-06-26T14:17:49.653247Z"
        },
        "scrolled": true,
        "id": "GXBMmwpbFyM7"
      },
      "outputs": [],
      "source": [
        "predicted = ['owner' if p > 0.5 else 'nonowner' for p in owner_df.Probability]\n",
        "classificationSummary(owner_df.Class, predicted, class_names=class_names)"
      ]
    },
    {
      "cell_type": "code",
      "execution_count": null,
      "metadata": {
        "execution": {
          "iopub.execute_input": "2023-06-26T14:17:49.656493Z",
          "iopub.status.busy": "2023-06-26T14:17:49.656248Z",
          "iopub.status.idle": "2023-06-26T14:17:49.663601Z",
          "shell.execute_reply": "2023-06-26T14:17:49.662848Z"
        },
        "id": "jjd410LBFyM7"
      },
      "outputs": [],
      "source": [
        "predicted = ['owner' if p > 0.25 else 'nonowner' for p in owner_df.Probability]\n",
        "classificationSummary(owner_df.Class, predicted, class_names=class_names)"
      ]
    },
    {
      "cell_type": "code",
      "execution_count": null,
      "metadata": {
        "execution": {
          "iopub.execute_input": "2023-06-26T14:17:49.666032Z",
          "iopub.status.busy": "2023-06-26T14:17:49.665795Z",
          "iopub.status.idle": "2023-06-26T14:17:49.672056Z",
          "shell.execute_reply": "2023-06-26T14:17:49.671221Z"
        },
        "id": "BWaEw9KdFyM7"
      },
      "outputs": [],
      "source": [
        "predicted = ['owner' if p > 0.75 else 'nonowner' for p in owner_df.Probability]\n",
        "classificationSummary(owner_df.Class, predicted, class_names=class_names)"
      ]
    },
    {
      "cell_type": "markdown",
      "metadata": {
        "id": "XQVSroKjFyM8"
      },
      "source": [
        "## Figure 5.5"
      ]
    },
    {
      "cell_type": "code",
      "source": [
        "df = dmba.load_data('liftExample.csv')\n",
        "\n",
        "cutoffs = [i * 0.1 for i in range(0, 11)]\n",
        "accT = []\n",
        "for cutoff in cutoffs:\n",
        "    predicted = [1 if p > cutoff else 0 for p in df.prob]\n",
        "    accT.append(accuracy_score(df.actual, predicted))"
      ],
      "metadata": {
        "id": "8tL01YJ9Jdfy"
      },
      "execution_count": 9,
      "outputs": []
    },
    {
      "cell_type": "code",
      "execution_count": 10,
      "metadata": {
        "execution": {
          "iopub.execute_input": "2023-06-26T14:17:49.852608Z",
          "iopub.status.busy": "2023-06-26T14:17:49.852426Z",
          "iopub.status.idle": "2023-06-26T14:17:49.858148Z",
          "shell.execute_reply": "2023-06-26T14:17:49.857301Z"
        },
        "id": "OIZfPqDHFyM8"
      },
      "outputs": [],
      "source": [
        "fpr, tpr, _ = roc_curve(df.actual, df.prob)\n",
        "roc_auc = auc(fpr, tpr)"
      ]
    },
    {
      "cell_type": "code",
      "execution_count": null,
      "metadata": {
        "execution": {
          "iopub.execute_input": "2023-06-26T14:17:49.860899Z",
          "iopub.status.busy": "2023-06-26T14:17:49.860220Z",
          "iopub.status.idle": "2023-06-26T14:17:50.028897Z",
          "shell.execute_reply": "2023-06-26T14:17:50.028031Z"
        },
        "id": "lDKsV2ChFyM9"
      },
      "outputs": [],
      "source": [
        "plt.figure(figsize=[5, 5])\n",
        "lw = 2\n",
        "plt.plot(fpr, tpr, color='darkorange',\n",
        "         lw=lw, label='ROC curve (area = %0.4f)' % roc_auc)\n",
        "plt.plot([0, 1], [0, 1], color='navy', lw=lw, linestyle='--')\n",
        "plt.xlim([0.0, 1.0])\n",
        "plt.ylim([0.0, 1.05])\n",
        "plt.xlabel('False Positive Rate (1 - Specificity)')\n",
        "plt.ylabel('True Positive Rate (Sensitivity)')\n",
        "plt.legend(loc=\"lower right\")\n",
        "\n",
        "plt.show()"
      ]
    },
    {
      "cell_type": "markdown",
      "metadata": {
        "id": "Bil1QjFXFyM9"
      },
      "source": [
        "## Figure 5.6"
      ]
    },
    {
      "cell_type": "code",
      "execution_count": null,
      "metadata": {
        "execution": {
          "iopub.execute_input": "2023-06-26T14:17:50.032212Z",
          "iopub.status.busy": "2023-06-26T14:17:50.031477Z",
          "iopub.status.idle": "2023-06-26T14:17:50.205686Z",
          "shell.execute_reply": "2023-06-26T14:17:50.204883Z"
        },
        "id": "nH4Hv4D-FyM9"
      },
      "outputs": [],
      "source": [
        "df = dmba.load_data('liftExample.csv')\n",
        "df = df.sort_values(by=['prob'], ascending=False)\n",
        "\n",
        "gainsChart(df.actual, figsize=(4, 4))\n",
        "\n",
        "plt.tight_layout()\n",
        "plt.show()"
      ]
    },
    {
      "cell_type": "markdown",
      "source": [
        "Example of code when you want to have multiple ROC Curves in the same graph"
      ],
      "metadata": {
        "id": "j_2Yp62EMGx5"
      }
    },
    {
      "cell_type": "code",
      "source": [
        "#set up plotting area\n",
        "plt.figure(0).clf()\n",
        "\n",
        "#fit logistic regression model and plot ROC curve\n",
        "model = LogisticRegression()\n",
        "model.fit(X_train, y_train)\n",
        "y_pred = model.predict_proba(X_test)\n",
        "fpr, tpr, _ = metrics.roc_curve(y_test, y_pred)\n",
        "auc = round(metrics.roc_auc_score(y_test, y_pred), 4)\n",
        "plt.plot(fpr,tpr,label=\"Logistic Regression, AUC=\"+str(auc))\n",
        "\n",
        "#fit gradient boosted model and plot ROC curve\n",
        "model = DecisionTreeClassifier(random_state=0)\n",
        "model.fit(X_train, y_train)\n",
        "y_pred = model.predict_proba(X_test)\n",
        "fpr, tpr, _ = metrics.roc_curve(y_test, y_pred)\n",
        "auc = round(metrics.roc_auc_score(y_test, y_pred), 4)\n",
        "plt.plot(fpr,tpr,label=\"Decision Tree, AUC=\"+str(auc))\n",
        "\n",
        "#add legend\n",
        "plt.legend()"
      ],
      "metadata": {
        "id": "uHuHPeocLtgA"
      },
      "execution_count": null,
      "outputs": []
    }
  ],
  "metadata": {
    "kernelspec": {
      "display_name": "Python 3 (ipykernel)",
      "language": "python",
      "name": "python3"
    },
    "language_info": {
      "codemirror_mode": {
        "name": "ipython",
        "version": 3
      },
      "file_extension": ".py",
      "mimetype": "text/x-python",
      "name": "python",
      "nbconvert_exporter": "python",
      "pygments_lexer": "ipython3",
      "version": "3.11.4"
    },
    "colab": {
      "provenance": []
    }
  },
  "nbformat": 4,
  "nbformat_minor": 0
}