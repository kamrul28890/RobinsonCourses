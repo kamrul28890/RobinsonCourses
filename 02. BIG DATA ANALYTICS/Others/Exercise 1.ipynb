{
 "cells": [
  {
   "cell_type": "code",
   "execution_count": null,
   "id": "7519461d",
   "metadata": {},
   "outputs": [],
   "source": [
    "pip install dmba"
   ]
  },
  {
   "cell_type": "code",
   "execution_count": 4,
   "id": "085b19e5",
   "metadata": {},
   "outputs": [
    {
     "name": "stdout",
     "output_type": "stream",
     "text": [
      "Requirement already satisfied: mord in c:\\users\\nasim\\anaconda3\\lib\\site-packages (0.7)Note: you may need to restart the kernel to use updated packages.\n",
      "\n"
     ]
    }
   ],
   "source": [
    "pip install mord"
   ]
  },
  {
   "cell_type": "code",
   "execution_count": 18,
   "id": "708018a5",
   "metadata": {},
   "outputs": [],
   "source": [
    "from pathlib import Path\n",
    "import numpy as np\n",
    "import pandas as pd\n",
    "from sklearn.linear_model import LogisticRegression, LogisticRegressionCV\n",
    "from sklearn.linear_model import LinearRegression, Lasso, Ridge, LassoCV, BayesianRidge\n",
    "from sklearn.model_selection import train_test_split\n",
    "import statsmodels.api as sm\n",
    "from mord import LogisticIT\n",
    "import matplotlib.pylab as plt\n",
    "import seaborn as sns\n",
    "import dmba\n",
    "from dmba import classificationSummary, gainsChart, liftChart\n",
    "from dmba.metric import AIC_score\n",
    "import dmba\n",
    "from dmba import regressionSummary, exhaustive_search\n",
    "from dmba import backward_elimination, forward_selection, stepwise_selection\n",
    "from dmba import adjusted_r2_score, AIC_score, BIC_score\n",
    "from sklearn import metrics\n"
   ]
  },
  {
   "cell_type": "code",
   "execution_count": 15,
   "id": "ecb05cf1",
   "metadata": {},
   "outputs": [],
   "source": [
    "Tayko_df = pd.read_csv(\"C:\\\\Users\\\\nasim\\\\Dropbox (GSU Dropbox)\\\\CIS 8695\\\\Dataset\\\\CSV_Tayko.csv\")\n",
    "predictors = [\"Address_US\",\"Freq\",\"last_update\", \"Web\",\"Gender\",\"Address_RES\"]\n",
    "outcome = 'Spending'"
   ]
  },
  {
   "cell_type": "code",
   "execution_count": 5,
   "id": "5ddc5fcc",
   "metadata": {},
   "outputs": [
    {
     "ename": "NameError",
     "evalue": "name 'Tayko_df' is not defined",
     "output_type": "error",
     "traceback": [
      "\u001b[1;31m---------------------------------------------------------------------------\u001b[0m",
      "\u001b[1;31mNameError\u001b[0m                                 Traceback (most recent call last)",
      "Cell \u001b[1;32mIn[5], line 1\u001b[0m\n\u001b[1;32m----> 1\u001b[0m y \u001b[38;5;241m=\u001b[39m Tayko_df[outcome]\n\u001b[0;32m      2\u001b[0m X \u001b[38;5;241m=\u001b[39m Tayko_df[predictors]\n\u001b[0;32m      3\u001b[0m train_X, valid_X, train_y, valid_y \u001b[38;5;241m=\u001b[39m train_test_split(X, y, test_size\u001b[38;5;241m=\u001b[39m\u001b[38;5;241m0.4\u001b[39m, random_state\u001b[38;5;241m=\u001b[39m\u001b[38;5;241m1\u001b[39m)\n",
      "\u001b[1;31mNameError\u001b[0m: name 'Tayko_df' is not defined"
     ]
    }
   ],
   "source": [
    "y = Tayko_df[outcome]\n",
    "X = Tayko_df[predictors]\n",
    "train_X, valid_X, train_y, valid_y = train_test_split(X, y, test_size=0.4, random_state=1)\n",
    "\n",
    "Tayko_lm = LinearRegression()\n",
    "Tayko_lm.fit(train_X, train_y)\n",
    "\n",
    "# print coefficients\n",
    "print('intercept ', Tayko_lm.intercept_)\n",
    "print(pd.DataFrame({'Predictor': X.columns, 'coefficient': Tayko_lm.coef_}))\n",
    "\n",
    "# print performance measures\n",
    "regressionSummary(train_y, Tayko_lm.predict(train_X))"
   ]
  }
 ],
 "metadata": {
  "kernelspec": {
   "display_name": "Python 3 (ipykernel)",
   "language": "python",
   "name": "python3"
  },
  "language_info": {
   "codemirror_mode": {
    "name": "ipython",
    "version": 3
   },
   "file_extension": ".py",
   "mimetype": "text/x-python",
   "name": "python",
   "nbconvert_exporter": "python",
   "pygments_lexer": "ipython3",
   "version": "3.11.4"
  }
 },
 "nbformat": 4,
 "nbformat_minor": 5
}
