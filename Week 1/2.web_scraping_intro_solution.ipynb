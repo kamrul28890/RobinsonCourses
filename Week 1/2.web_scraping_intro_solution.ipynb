{
 "cells": [
  {
   "cell_type": "code",
   "execution_count": 2,
   "metadata": {},
   "outputs": [],
   "source": [
    "#!pip install requests\n",
    "#!pip install beautifulsoup4\n",
    "#!pip install pandas\n",
    "\n",
    "import requests\n",
    "from bs4 import BeautifulSoup\n",
    "import pandas as pd\n"
   ]
  },
  {
   "cell_type": "code",
   "execution_count": 3,
   "metadata": {},
   "outputs": [],
   "source": [
    "titles = []\n",
    "prices = []\n",
    "descriptions = []\n",
    "ratings = []\n",
    "url = 'https://webscraper.io/test-sites/e-commerce/allinone/computers/laptops'\n",
    "request = requests.get(url)"
   ]
  },
  {
   "cell_type": "code",
   "execution_count": 9,
   "metadata": {},
   "outputs": [],
   "source": [
    "#request.text"
   ]
  },
  {
   "cell_type": "code",
   "execution_count": 4,
   "metadata": {},
   "outputs": [
    {
     "data": {
      "text/html": [
       "<div>\n",
       "<style scoped>\n",
       "    .dataframe tbody tr th:only-of-type {\n",
       "        vertical-align: middle;\n",
       "    }\n",
       "\n",
       "    .dataframe tbody tr th {\n",
       "        vertical-align: top;\n",
       "    }\n",
       "\n",
       "    .dataframe thead th {\n",
       "        text-align: right;\n",
       "    }\n",
       "</style>\n",
       "<table border=\"1\" class=\"dataframe\">\n",
       "  <thead>\n",
       "    <tr style=\"text-align: right;\">\n",
       "      <th></th>\n",
       "      <th>Titles</th>\n",
       "      <th>Prices</th>\n",
       "      <th>Ratings</th>\n",
       "      <th>Description</th>\n",
       "    </tr>\n",
       "  </thead>\n",
       "  <tbody>\n",
       "    <tr>\n",
       "      <th>0</th>\n",
       "      <td>Asus VivoBook X441NA-GA190</td>\n",
       "      <td>$295.99</td>\n",
       "      <td>3</td>\n",
       "      <td>Asus VivoBook X441NA-GA190 Chocolate Black, 14...</td>\n",
       "    </tr>\n",
       "    <tr>\n",
       "      <th>1</th>\n",
       "      <td>Prestigio SmartBook 133S Dark Grey</td>\n",
       "      <td>$299.00</td>\n",
       "      <td>2</td>\n",
       "      <td>Prestigio SmartBook 133S Dark Grey, 13.3\" FHD ...</td>\n",
       "    </tr>\n",
       "    <tr>\n",
       "      <th>2</th>\n",
       "      <td>Prestigio SmartBook 133S Gold</td>\n",
       "      <td>$299.00</td>\n",
       "      <td>4</td>\n",
       "      <td>Prestigio SmartBook 133S Gold, 13.3\" FHD IPS, ...</td>\n",
       "    </tr>\n",
       "    <tr>\n",
       "      <th>3</th>\n",
       "      <td>Aspire E1-510</td>\n",
       "      <td>$306.99</td>\n",
       "      <td>3</td>\n",
       "      <td>15.6\", Pentium N3520 2.16GHz, 4GB, 500GB, Linux</td>\n",
       "    </tr>\n",
       "    <tr>\n",
       "      <th>4</th>\n",
       "      <td>Lenovo V110-15IAP</td>\n",
       "      <td>$321.94</td>\n",
       "      <td>3</td>\n",
       "      <td>Lenovo V110-15IAP, 15.6\" HD, Celeron N3350 1.1...</td>\n",
       "    </tr>\n",
       "  </tbody>\n",
       "</table>\n",
       "</div>"
      ],
      "text/plain": [
       "                               Titles   Prices  Ratings  \\\n",
       "0          Asus VivoBook X441NA-GA190  $295.99        3   \n",
       "1  Prestigio SmartBook 133S Dark Grey  $299.00        2   \n",
       "2       Prestigio SmartBook 133S Gold  $299.00        4   \n",
       "3                       Aspire E1-510  $306.99        3   \n",
       "4                   Lenovo V110-15IAP  $321.94        3   \n",
       "\n",
       "                                         Description  \n",
       "0  Asus VivoBook X441NA-GA190 Chocolate Black, 14...  \n",
       "1  Prestigio SmartBook 133S Dark Grey, 13.3\" FHD ...  \n",
       "2  Prestigio SmartBook 133S Gold, 13.3\" FHD IPS, ...  \n",
       "3    15.6\", Pentium N3520 2.16GHz, 4GB, 500GB, Linux  \n",
       "4  Lenovo V110-15IAP, 15.6\" HD, Celeron N3350 1.1...  "
      ]
     },
     "execution_count": 4,
     "metadata": {},
     "output_type": "execute_result"
    }
   ],
   "source": [
    "soup = BeautifulSoup(request.text, \"html.parser\")\n",
    "\n",
    "for product in soup.find_all('div', {'class': 'col-md-4 col-xl-4 col-lg-4'}):\n",
    "    for pr in product.find_all('div', {'class': 'caption'}):\n",
    "        for p in pr.find_all('h4', {'class': 'float-end price card-title pull-right'}):\n",
    "            prices.append(p.text)\n",
    "        for title in pr.find_all('a' , {'title'}):\n",
    "            titles.append(title.get('title'))\n",
    "        for desc in pr.find_all('p',{'class':'description'}):\n",
    "            descriptions.append(desc.text)\n",
    "    for rt in product.find_all('div', {'class': 'ratings'}):\n",
    "        ratings.append(len(rt.find_all('span', {'class': 'ws-icon ws-icon-star'})))\n",
    "        \n",
    "#build dataframe and export to csv            \n",
    "product_df = pd.DataFrame(zip(titles,prices,ratings, descriptions), columns =['Titles', 'Prices', 'Ratings', 'Description'])  \n",
    "product_df.head()\n"
   ]
  },
  {
   "cell_type": "code",
   "execution_count": 5,
   "metadata": {},
   "outputs": [],
   "source": [
    "product_df.to_csv(\"ecommerce.csv\",index=False)\n"
   ]
  },
  {
   "cell_type": "markdown",
   "metadata": {},
   "source": [
    "## Go Ahead\n",
    "### Next：Read Data\n",
    "* 1. load data\n",
    "* 2. show columns"
   ]
  },
  {
   "cell_type": "code",
   "execution_count": 6,
   "metadata": {},
   "outputs": [
    {
     "data": {
      "text/html": [
       "<div>\n",
       "<style scoped>\n",
       "    .dataframe tbody tr th:only-of-type {\n",
       "        vertical-align: middle;\n",
       "    }\n",
       "\n",
       "    .dataframe tbody tr th {\n",
       "        vertical-align: top;\n",
       "    }\n",
       "\n",
       "    .dataframe thead th {\n",
       "        text-align: right;\n",
       "    }\n",
       "</style>\n",
       "<table border=\"1\" class=\"dataframe\">\n",
       "  <thead>\n",
       "    <tr style=\"text-align: right;\">\n",
       "      <th></th>\n",
       "      <th>Titles</th>\n",
       "      <th>Prices</th>\n",
       "      <th>Ratings</th>\n",
       "      <th>Description</th>\n",
       "    </tr>\n",
       "  </thead>\n",
       "  <tbody>\n",
       "    <tr>\n",
       "      <th>0</th>\n",
       "      <td>Asus VivoBook X441NA-GA190</td>\n",
       "      <td>$295.99</td>\n",
       "      <td>3</td>\n",
       "      <td>Asus VivoBook X441NA-GA190 Chocolate Black, 14...</td>\n",
       "    </tr>\n",
       "    <tr>\n",
       "      <th>1</th>\n",
       "      <td>Prestigio SmartBook 133S Dark Grey</td>\n",
       "      <td>$299.00</td>\n",
       "      <td>2</td>\n",
       "      <td>Prestigio SmartBook 133S Dark Grey, 13.3\" FHD ...</td>\n",
       "    </tr>\n",
       "    <tr>\n",
       "      <th>2</th>\n",
       "      <td>Prestigio SmartBook 133S Gold</td>\n",
       "      <td>$299.00</td>\n",
       "      <td>4</td>\n",
       "      <td>Prestigio SmartBook 133S Gold, 13.3\" FHD IPS, ...</td>\n",
       "    </tr>\n",
       "    <tr>\n",
       "      <th>3</th>\n",
       "      <td>Aspire E1-510</td>\n",
       "      <td>$306.99</td>\n",
       "      <td>3</td>\n",
       "      <td>15.6\", Pentium N3520 2.16GHz, 4GB, 500GB, Linux</td>\n",
       "    </tr>\n",
       "    <tr>\n",
       "      <th>4</th>\n",
       "      <td>Lenovo V110-15IAP</td>\n",
       "      <td>$321.94</td>\n",
       "      <td>3</td>\n",
       "      <td>Lenovo V110-15IAP, 15.6\" HD, Celeron N3350 1.1...</td>\n",
       "    </tr>\n",
       "  </tbody>\n",
       "</table>\n",
       "</div>"
      ],
      "text/plain": [
       "                               Titles   Prices  Ratings  \\\n",
       "0          Asus VivoBook X441NA-GA190  $295.99        3   \n",
       "1  Prestigio SmartBook 133S Dark Grey  $299.00        2   \n",
       "2       Prestigio SmartBook 133S Gold  $299.00        4   \n",
       "3                       Aspire E1-510  $306.99        3   \n",
       "4                   Lenovo V110-15IAP  $321.94        3   \n",
       "\n",
       "                                         Description  \n",
       "0  Asus VivoBook X441NA-GA190 Chocolate Black, 14...  \n",
       "1  Prestigio SmartBook 133S Dark Grey, 13.3\" FHD ...  \n",
       "2  Prestigio SmartBook 133S Gold, 13.3\" FHD IPS, ...  \n",
       "3    15.6\", Pentium N3520 2.16GHz, 4GB, 500GB, Linux  \n",
       "4  Lenovo V110-15IAP, 15.6\" HD, Celeron N3350 1.1...  "
      ]
     },
     "execution_count": 6,
     "metadata": {},
     "output_type": "execute_result"
    }
   ],
   "source": [
    "documents = pd.read_csv('ecommerce.csv')\n",
    "documents.head()"
   ]
  },
  {
   "cell_type": "code",
   "execution_count": 7,
   "metadata": {},
   "outputs": [
    {
     "data": {
      "text/plain": [
       "Index(['Titles', 'Prices', 'Ratings', 'Description'], dtype='object')"
      ]
     },
     "execution_count": 7,
     "metadata": {},
     "output_type": "execute_result"
    }
   ],
   "source": [
    "documents.columns"
   ]
  }
 ],
 "metadata": {
  "kernelspec": {
   "display_name": "Python 3 (ipykernel)",
   "language": "python",
   "name": "python3"
  },
  "language_info": {
   "codemirror_mode": {
    "name": "ipython",
    "version": 3
   },
   "file_extension": ".py",
   "mimetype": "text/x-python",
   "name": "python",
   "nbconvert_exporter": "python",
   "pygments_lexer": "ipython3",
   "version": "3.9.13"
  }
 },
 "nbformat": 4,
 "nbformat_minor": 4
}
