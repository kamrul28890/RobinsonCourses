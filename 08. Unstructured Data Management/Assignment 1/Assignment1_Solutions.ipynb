{
 "cells": [
  {
   "cell_type": "markdown",
   "id": "de221561-b68c-4ce5-88b5-5d544a3c380b",
   "metadata": {},
   "source": [
    "# Assignment 1 - Text Preprocessing and Similarity\n",
    "This assignment will focus on text preprocessing and the calculation of text similarity through TF-IDF. Please put the data file `kickstarter_desc_sample.csv` under the same directory with this notebook. \n",
    "\n",
    "The code below will load the data and select a random sample for subsequent tasks. Each student will work on a different random sample. Then it will display how the data looks like in your sample. \n",
    "\n",
    "The code in the notebook primarily uses `pandas` dataframe. You can use `df['column'].apply(function)` to apply any preprocessing function directly on pandas dataframe."
   ]
  },
  {
   "cell_type": "markdown",
   "id": "d5851729-5723-46f3-90a4-beca75aee972",
   "metadata": {},
   "source": [
    "The data was collected from the a crowdfunding website, Kickstarter (<a>www.kickstarter.com</a>). It is basically about entrepreneurial fundraising campaigns. The sample contains around five thousand project descriptions. For each row in the data, there is a `project_id`, the unique identifier of the project, and a column of textual project description (`description_str`)."
   ]
  },
  {
   "cell_type": "code",
   "execution_count": 1,
   "id": "074730ef-cbe1-4969-8adb-af04179335ce",
   "metadata": {},
   "outputs": [
    {
     "data": {
      "text/plain": [
       "uname_result(system='Darwin', node='Lusis-MacBook-Pro-M1.local', release='22.5.0', version='Darwin Kernel Version 22.5.0: Mon Apr 24 20:52:24 PDT 2023; root:xnu-8796.121.2~5/RELEASE_ARM64_T6000', machine='arm64')"
      ]
     },
     "execution_count": 1,
     "metadata": {},
     "output_type": "execute_result"
    }
   ],
   "source": [
    "import pandas as pd\n",
    "import numpy as np\n",
    "descriptions = pd.read_csv('./kickstarter_desc_sample.csv')\n",
    "descriptions = descriptions.sample(1000)\n",
    "import platform\n",
    "platform.uname()"
   ]
  },
  {
   "cell_type": "code",
   "execution_count": 2,
   "id": "9fa49400-1ed7-46f9-925e-a63a89b701dd",
   "metadata": {},
   "outputs": [
    {
     "data": {
      "text/html": [
       "<div>\n",
       "<style scoped>\n",
       "    .dataframe tbody tr th:only-of-type {\n",
       "        vertical-align: middle;\n",
       "    }\n",
       "\n",
       "    .dataframe tbody tr th {\n",
       "        vertical-align: top;\n",
       "    }\n",
       "\n",
       "    .dataframe thead th {\n",
       "        text-align: right;\n",
       "    }\n",
       "</style>\n",
       "<table border=\"1\" class=\"dataframe\">\n",
       "  <thead>\n",
       "    <tr style=\"text-align: right;\">\n",
       "      <th></th>\n",
       "      <th>project_id</th>\n",
       "      <th>description_str</th>\n",
       "    </tr>\n",
       "  </thead>\n",
       "  <tbody>\n",
       "    <tr>\n",
       "      <th>3594</th>\n",
       "      <td>367456610</td>\n",
       "      <td>Check us out!  We are in the news!We have some big-name media outlets who are excited to hear the stories of the entrepreneurs we meet on the tour and are going to provide great coverage over the ...</td>\n",
       "    </tr>\n",
       "    <tr>\n",
       "      <th>3324</th>\n",
       "      <td>1179277958</td>\n",
       "      <td>---- Update Oct 1st ----Most of the components to build ControLeo are in our hands now.  We will be going ahead with production regardless of the outcome of this campaign.  Place your pledge now, ...</td>\n",
       "    </tr>\n",
       "    <tr>\n",
       "      <th>1722</th>\n",
       "      <td>1098848908</td>\n",
       "      <td>doljiggu [doljikku] - The Straight-Shooting, no Frills Narrativeannyeong yeoreobun [annyoung yorobun]. Hey all. My name is Peter Liptak. Author of the first edition of As much as a Rat's Tail - Ko...</td>\n",
       "    </tr>\n",
       "    <tr>\n",
       "      <th>405</th>\n",
       "      <td>187763644</td>\n",
       "      <td>What is MUSIC CITY?MUSIC CITY is a narrative feature length film set in New York City. It's a love note to New York, with drama, laughs, inspiration, and characters drawn from real life. And the m...</td>\n",
       "    </tr>\n",
       "    <tr>\n",
       "      <th>3972</th>\n",
       "      <td>1674439151</td>\n",
       "      <td>When I first heard about this film project, I automatically had to get involved. I was blown away by the script, the lyrics, the music, the storyboard and concept art that you can imagine how bumm...</td>\n",
       "    </tr>\n",
       "  </tbody>\n",
       "</table>\n",
       "</div>"
      ],
      "text/plain": [
       "      project_id  \\\n",
       "3594   367456610   \n",
       "3324  1179277958   \n",
       "1722  1098848908   \n",
       "405    187763644   \n",
       "3972  1674439151   \n",
       "\n",
       "                                                                                                                                                                                              description_str  \n",
       "3594  Check us out!  We are in the news!We have some big-name media outlets who are excited to hear the stories of the entrepreneurs we meet on the tour and are going to provide great coverage over the ...  \n",
       "3324  ---- Update Oct 1st ----Most of the components to build ControLeo are in our hands now.  We will be going ahead with production regardless of the outcome of this campaign.  Place your pledge now, ...  \n",
       "1722  doljiggu [doljikku] - The Straight-Shooting, no Frills Narrativeannyeong yeoreobun [annyoung yorobun]. Hey all. My name is Peter Liptak. Author of the first edition of As much as a Rat's Tail - Ko...  \n",
       "405   What is MUSIC CITY?MUSIC CITY is a narrative feature length film set in New York City. It's a love note to New York, with drama, laughs, inspiration, and characters drawn from real life. And the m...  \n",
       "3972  When I first heard about this film project, I automatically had to get involved. I was blown away by the script, the lyrics, the music, the storyboard and concept art that you can imagine how bumm...  "
      ]
     },
     "execution_count": 2,
     "metadata": {},
     "output_type": "execute_result"
    }
   ],
   "source": [
    "pd.set_option('display.max_colwidth', 200)\n",
    "descriptions.head()"
   ]
  },
  {
   "cell_type": "markdown",
   "id": "9c1c1882-7e4b-4349-ab96-052af5936bb7",
   "metadata": {},
   "source": [
    "## Task 1 Text Preprocessing\n",
    "In Task 1 you will preprocess the text. The text has lots of noises and unstructured terms so before performing subsequent analysis, you need to clean them first."
   ]
  },
  {
   "cell_type": "markdown",
   "id": "f3a7f5d0-f557-41bd-9583-7cb64dfcd3fa",
   "metadata": {},
   "source": [
    "In this task, you will implement (1) `tokenizer` (2) `stop words removal` (3) `lemmatizer` to preprocess the texts in the column `description_str`. Eventually, the cleaned text should be saved as a separate column in the `descriptions` dataframe with the name `description_clean`."
   ]
  },
  {
   "cell_type": "markdown",
   "id": "dacfb9aa-e6c2-4340-bb85-d1ff02c91112",
   "metadata": {},
   "source": [
    "First make sure you download the NLTK corpora."
   ]
  },
  {
   "cell_type": "markdown",
   "id": "01611441-e67f-410c-8355-63f57eb37140",
   "metadata": {},
   "source": [
    "### `Task 1.1` Tokenizer\n",
    "Implement tokenizer to tokenize the text and remove special characters in the text"
   ]
  },
  {
   "cell_type": "code",
   "execution_count": 3,
   "id": "026d69d8-98b6-4137-871c-ebdc95b6331f",
   "metadata": {},
   "outputs": [],
   "source": [
    "import re\n",
    "from nltk.tokenize import RegexpTokenizer\n",
    "\n",
    "def tokenizer(description):\n",
    "    #tokenize to extract words\n",
    "    description = description.lower()\n",
    "    description = re.sub('[^a-zA-Z0-9]', ' ', description)\n",
    "    tokenizer = RegexpTokenizer('\\w+|\\$[\\d\\.]+|\\S+')\n",
    "    words = tokenizer.tokenize(description)\n",
    "    tokenized_words = ' '.join(words)\n",
    "    return tokenized_words"
   ]
  },
  {
   "cell_type": "code",
   "execution_count": 4,
   "id": "00893a02-c87f-4cef-9b2d-ac7f8dc296b9",
   "metadata": {},
   "outputs": [
    {
     "data": {
      "text/html": [
       "<div>\n",
       "<style scoped>\n",
       "    .dataframe tbody tr th:only-of-type {\n",
       "        vertical-align: middle;\n",
       "    }\n",
       "\n",
       "    .dataframe tbody tr th {\n",
       "        vertical-align: top;\n",
       "    }\n",
       "\n",
       "    .dataframe thead th {\n",
       "        text-align: right;\n",
       "    }\n",
       "</style>\n",
       "<table border=\"1\" class=\"dataframe\">\n",
       "  <thead>\n",
       "    <tr style=\"text-align: right;\">\n",
       "      <th></th>\n",
       "      <th>project_id</th>\n",
       "      <th>description_str</th>\n",
       "      <th>description_clean</th>\n",
       "    </tr>\n",
       "  </thead>\n",
       "  <tbody>\n",
       "    <tr>\n",
       "      <th>3594</th>\n",
       "      <td>367456610</td>\n",
       "      <td>Check us out!  We are in the news!We have some big-name media outlets who are excited to hear the stories of the entrepreneurs we meet on the tour and are going to provide great coverage over the ...</td>\n",
       "      <td>check us out we are in the news we have some big name media outlets who are excited to hear the stories of the entrepreneurs we meet on the tour and are going to provide great coverage over the su...</td>\n",
       "    </tr>\n",
       "    <tr>\n",
       "      <th>3324</th>\n",
       "      <td>1179277958</td>\n",
       "      <td>---- Update Oct 1st ----Most of the components to build ControLeo are in our hands now.  We will be going ahead with production regardless of the outcome of this campaign.  Place your pledge now, ...</td>\n",
       "      <td>update oct 1st most of the components to build controleo are in our hands now we will be going ahead with production regardless of the outcome of this campaign place your pledge now and if we don ...</td>\n",
       "    </tr>\n",
       "    <tr>\n",
       "      <th>1722</th>\n",
       "      <td>1098848908</td>\n",
       "      <td>doljiggu [doljikku] - The Straight-Shooting, no Frills Narrativeannyeong yeoreobun [annyoung yorobun]. Hey all. My name is Peter Liptak. Author of the first edition of As much as a Rat's Tail - Ko...</td>\n",
       "      <td>doljiggu doljikku the straight shooting no frills narrativeannyeong yeoreobun annyoung yorobun hey all my name is peter liptak author of the first edition of as much as a rat s tail korean slang i...</td>\n",
       "    </tr>\n",
       "    <tr>\n",
       "      <th>405</th>\n",
       "      <td>187763644</td>\n",
       "      <td>What is MUSIC CITY?MUSIC CITY is a narrative feature length film set in New York City. It's a love note to New York, with drama, laughs, inspiration, and characters drawn from real life. And the m...</td>\n",
       "      <td>what is music city music city is a narrative feature length film set in new york city it s a love note to new york with drama laughs inspiration and characters drawn from real life and the music b...</td>\n",
       "    </tr>\n",
       "    <tr>\n",
       "      <th>3972</th>\n",
       "      <td>1674439151</td>\n",
       "      <td>When I first heard about this film project, I automatically had to get involved. I was blown away by the script, the lyrics, the music, the storyboard and concept art that you can imagine how bumm...</td>\n",
       "      <td>when i first heard about this film project i automatically had to get involved i was blown away by the script the lyrics the music the storyboard and concept art that you can imagine how bummed i ...</td>\n",
       "    </tr>\n",
       "  </tbody>\n",
       "</table>\n",
       "</div>"
      ],
      "text/plain": [
       "      project_id  \\\n",
       "3594   367456610   \n",
       "3324  1179277958   \n",
       "1722  1098848908   \n",
       "405    187763644   \n",
       "3972  1674439151   \n",
       "\n",
       "                                                                                                                                                                                              description_str  \\\n",
       "3594  Check us out!  We are in the news!We have some big-name media outlets who are excited to hear the stories of the entrepreneurs we meet on the tour and are going to provide great coverage over the ...   \n",
       "3324  ---- Update Oct 1st ----Most of the components to build ControLeo are in our hands now.  We will be going ahead with production regardless of the outcome of this campaign.  Place your pledge now, ...   \n",
       "1722  doljiggu [doljikku] - The Straight-Shooting, no Frills Narrativeannyeong yeoreobun [annyoung yorobun]. Hey all. My name is Peter Liptak. Author of the first edition of As much as a Rat's Tail - Ko...   \n",
       "405   What is MUSIC CITY?MUSIC CITY is a narrative feature length film set in New York City. It's a love note to New York, with drama, laughs, inspiration, and characters drawn from real life. And the m...   \n",
       "3972  When I first heard about this film project, I automatically had to get involved. I was blown away by the script, the lyrics, the music, the storyboard and concept art that you can imagine how bumm...   \n",
       "\n",
       "                                                                                                                                                                                            description_clean  \n",
       "3594  check us out we are in the news we have some big name media outlets who are excited to hear the stories of the entrepreneurs we meet on the tour and are going to provide great coverage over the su...  \n",
       "3324  update oct 1st most of the components to build controleo are in our hands now we will be going ahead with production regardless of the outcome of this campaign place your pledge now and if we don ...  \n",
       "1722  doljiggu doljikku the straight shooting no frills narrativeannyeong yeoreobun annyoung yorobun hey all my name is peter liptak author of the first edition of as much as a rat s tail korean slang i...  \n",
       "405   what is music city music city is a narrative feature length film set in new york city it s a love note to new york with drama laughs inspiration and characters drawn from real life and the music b...  \n",
       "3972  when i first heard about this film project i automatically had to get involved i was blown away by the script the lyrics the music the storyboard and concept art that you can imagine how bummed i ...  "
      ]
     },
     "execution_count": 4,
     "metadata": {},
     "output_type": "execute_result"
    }
   ],
   "source": [
    "descriptions['description_clean'] = descriptions['description_str'].apply(tokenizer)\n",
    "descriptions.head()"
   ]
  },
  {
   "cell_type": "markdown",
   "id": "443294f8-7848-425b-a82a-ae1f6cdcc10a",
   "metadata": {},
   "source": [
    "### `Task 1.2` Stopwords\n",
    "Implement stop words removal to remove english stop words"
   ]
  },
  {
   "cell_type": "code",
   "execution_count": 5,
   "id": "8aff7419-b3c7-4216-968f-7f0222a61a5f",
   "metadata": {},
   "outputs": [],
   "source": [
    "from nltk.corpus import stopwords\n",
    "\n",
    "def remove_stopwords(words):\n",
    "    #Your code to implement stopwords removal process in column description_clean\n",
    "    token_list = words.split(' ')\n",
    "    stop = set(stopwords.words('english'))\n",
    "    filtered_words = ' '.join([token for token in token_list if not token in stop])\n",
    "    return filtered_words"
   ]
  },
  {
   "cell_type": "code",
   "execution_count": 6,
   "id": "b0d19563-36f8-46ca-bd32-9ff9a30b425c",
   "metadata": {},
   "outputs": [
    {
     "data": {
      "text/html": [
       "<div>\n",
       "<style scoped>\n",
       "    .dataframe tbody tr th:only-of-type {\n",
       "        vertical-align: middle;\n",
       "    }\n",
       "\n",
       "    .dataframe tbody tr th {\n",
       "        vertical-align: top;\n",
       "    }\n",
       "\n",
       "    .dataframe thead th {\n",
       "        text-align: right;\n",
       "    }\n",
       "</style>\n",
       "<table border=\"1\" class=\"dataframe\">\n",
       "  <thead>\n",
       "    <tr style=\"text-align: right;\">\n",
       "      <th></th>\n",
       "      <th>project_id</th>\n",
       "      <th>description_str</th>\n",
       "      <th>description_clean</th>\n",
       "    </tr>\n",
       "  </thead>\n",
       "  <tbody>\n",
       "    <tr>\n",
       "      <th>3594</th>\n",
       "      <td>367456610</td>\n",
       "      <td>Check us out!  We are in the news!We have some big-name media outlets who are excited to hear the stories of the entrepreneurs we meet on the tour and are going to provide great coverage over the ...</td>\n",
       "      <td>check us news big name media outlets excited hear stories entrepreneurs meet tour going provide great coverage summer names coming soon jasen lee deseret news wrote great story us check http www d...</td>\n",
       "    </tr>\n",
       "    <tr>\n",
       "      <th>3324</th>\n",
       "      <td>1179277958</td>\n",
       "      <td>---- Update Oct 1st ----Most of the components to build ControLeo are in our hands now.  We will be going ahead with production regardless of the outcome of this campaign.  Place your pledge now, ...</td>\n",
       "      <td>update oct 1st components build controleo hands going ahead production regardless outcome campaign place pledge reach target let know get hands controleo pledge know reach thanks idea behind contr...</td>\n",
       "    </tr>\n",
       "    <tr>\n",
       "      <th>1722</th>\n",
       "      <td>1098848908</td>\n",
       "      <td>doljiggu [doljikku] - The Straight-Shooting, no Frills Narrativeannyeong yeoreobun [annyoung yorobun]. Hey all. My name is Peter Liptak. Author of the first edition of As much as a Rat's Tail - Ko...</td>\n",
       "      <td>doljiggu doljikku straight shooting frills narrativeannyeong yeoreobun annyoung yorobun hey name peter liptak author first edition much rat tail korean slang invective euphemism along fabulous co ...</td>\n",
       "    </tr>\n",
       "    <tr>\n",
       "      <th>405</th>\n",
       "      <td>187763644</td>\n",
       "      <td>What is MUSIC CITY?MUSIC CITY is a narrative feature length film set in New York City. It's a love note to New York, with drama, laughs, inspiration, and characters drawn from real life. And the m...</td>\n",
       "      <td>music city music city narrative feature length film set new york city love note new york drama laughs inspiration characters drawn real life music breathtaking music genres focus classical film pa...</td>\n",
       "    </tr>\n",
       "    <tr>\n",
       "      <th>3972</th>\n",
       "      <td>1674439151</td>\n",
       "      <td>When I first heard about this film project, I automatically had to get involved. I was blown away by the script, the lyrics, the music, the storyboard and concept art that you can imagine how bumm...</td>\n",
       "      <td>first heard film project automatically get involved blown away script lyrics music storyboard concept art imagine bummed found film production way reach suddenly pops kickstarter mind glory contac...</td>\n",
       "    </tr>\n",
       "  </tbody>\n",
       "</table>\n",
       "</div>"
      ],
      "text/plain": [
       "      project_id  \\\n",
       "3594   367456610   \n",
       "3324  1179277958   \n",
       "1722  1098848908   \n",
       "405    187763644   \n",
       "3972  1674439151   \n",
       "\n",
       "                                                                                                                                                                                              description_str  \\\n",
       "3594  Check us out!  We are in the news!We have some big-name media outlets who are excited to hear the stories of the entrepreneurs we meet on the tour and are going to provide great coverage over the ...   \n",
       "3324  ---- Update Oct 1st ----Most of the components to build ControLeo are in our hands now.  We will be going ahead with production regardless of the outcome of this campaign.  Place your pledge now, ...   \n",
       "1722  doljiggu [doljikku] - The Straight-Shooting, no Frills Narrativeannyeong yeoreobun [annyoung yorobun]. Hey all. My name is Peter Liptak. Author of the first edition of As much as a Rat's Tail - Ko...   \n",
       "405   What is MUSIC CITY?MUSIC CITY is a narrative feature length film set in New York City. It's a love note to New York, with drama, laughs, inspiration, and characters drawn from real life. And the m...   \n",
       "3972  When I first heard about this film project, I automatically had to get involved. I was blown away by the script, the lyrics, the music, the storyboard and concept art that you can imagine how bumm...   \n",
       "\n",
       "                                                                                                                                                                                            description_clean  \n",
       "3594  check us news big name media outlets excited hear stories entrepreneurs meet tour going provide great coverage summer names coming soon jasen lee deseret news wrote great story us check http www d...  \n",
       "3324  update oct 1st components build controleo hands going ahead production regardless outcome campaign place pledge reach target let know get hands controleo pledge know reach thanks idea behind contr...  \n",
       "1722  doljiggu doljikku straight shooting frills narrativeannyeong yeoreobun annyoung yorobun hey name peter liptak author first edition much rat tail korean slang invective euphemism along fabulous co ...  \n",
       "405   music city music city narrative feature length film set new york city love note new york drama laughs inspiration characters drawn real life music breathtaking music genres focus classical film pa...  \n",
       "3972  first heard film project automatically get involved blown away script lyrics music storyboard concept art imagine bummed found film production way reach suddenly pops kickstarter mind glory contac...  "
      ]
     },
     "execution_count": 6,
     "metadata": {},
     "output_type": "execute_result"
    }
   ],
   "source": [
    "descriptions['description_clean'] = descriptions['description_clean'].apply(remove_stopwords)\n",
    "descriptions.head()"
   ]
  },
  {
   "cell_type": "markdown",
   "id": "84702113-b6e3-4dad-83f6-dda28cce6059",
   "metadata": {},
   "source": [
    "### `Task 1.3` Lemmatizer\n",
    "Implement lemmatizer on the tokens in the text using WordNet lemmatizer with POS tags"
   ]
  },
  {
   "cell_type": "code",
   "execution_count": 7,
   "id": "dee4c6f3-1f06-4415-b4e4-f3f320612b8f",
   "metadata": {},
   "outputs": [],
   "source": [
    "from nltk.corpus import wordnet\n",
    "\n",
    "def get_part_of_speech_tags(token):\n",
    "    \n",
    "    tag_dict = {\"J\": wordnet.ADJ,\n",
    "                \"N\": wordnet.NOUN,\n",
    "                \"V\": wordnet.VERB,\n",
    "                \"R\": wordnet.ADV}\n",
    "    \n",
    "    tag = nltk.pos_tag([token])[0][1][0].upper()\n",
    "    \n",
    "    return tag_dict.get(tag, wordnet.NOUN)"
   ]
  },
  {
   "cell_type": "code",
   "execution_count": 8,
   "id": "48e3fa77-691c-4867-931e-3d6dad39e384",
   "metadata": {},
   "outputs": [],
   "source": [
    "from nltk.stem import WordNetLemmatizer\n",
    "import nltk\n",
    "\n",
    "def postag_lemmentization(words):\n",
    "    #Your code to implement WordNet lemmatizer with POS tags in column description_clean\n",
    "    token_list = words.split(' ')\n",
    "    lemmatizer = WordNetLemmatizer()\n",
    "    lemmatized_words = ' '.join([lemmatizer.lemmatize(token, get_part_of_speech_tags(token)) for token in token_list])\n",
    "    return lemmatized_words"
   ]
  },
  {
   "cell_type": "code",
   "execution_count": 9,
   "id": "fc1ded28-c12d-406e-8325-5beba7d7645d",
   "metadata": {},
   "outputs": [
    {
     "data": {
      "text/html": [
       "<div>\n",
       "<style scoped>\n",
       "    .dataframe tbody tr th:only-of-type {\n",
       "        vertical-align: middle;\n",
       "    }\n",
       "\n",
       "    .dataframe tbody tr th {\n",
       "        vertical-align: top;\n",
       "    }\n",
       "\n",
       "    .dataframe thead th {\n",
       "        text-align: right;\n",
       "    }\n",
       "</style>\n",
       "<table border=\"1\" class=\"dataframe\">\n",
       "  <thead>\n",
       "    <tr style=\"text-align: right;\">\n",
       "      <th></th>\n",
       "      <th>project_id</th>\n",
       "      <th>description_str</th>\n",
       "      <th>description_clean</th>\n",
       "    </tr>\n",
       "  </thead>\n",
       "  <tbody>\n",
       "    <tr>\n",
       "      <th>3594</th>\n",
       "      <td>367456610</td>\n",
       "      <td>Check us out!  We are in the news!We have some big-name media outlets who are excited to hear the stories of the entrepreneurs we meet on the tour and are going to provide great coverage over the ...</td>\n",
       "      <td>check u news big name medium outlet excite hear story entrepreneur meet tour go provide great coverage summer name come soon jasen lee deseret news write great story u check http www deseretnews c...</td>\n",
       "    </tr>\n",
       "    <tr>\n",
       "      <th>3324</th>\n",
       "      <td>1179277958</td>\n",
       "      <td>---- Update Oct 1st ----Most of the components to build ControLeo are in our hands now.  We will be going ahead with production regardless of the outcome of this campaign.  Place your pledge now, ...</td>\n",
       "      <td>update oct 1st component build controleo hand go ahead production regardless outcome campaign place pledge reach target let know get hand controleo pledge know reach thanks idea behind controleoar...</td>\n",
       "    </tr>\n",
       "    <tr>\n",
       "      <th>1722</th>\n",
       "      <td>1098848908</td>\n",
       "      <td>doljiggu [doljikku] - The Straight-Shooting, no Frills Narrativeannyeong yeoreobun [annyoung yorobun]. Hey all. My name is Peter Liptak. Author of the first edition of As much as a Rat's Tail - Ko...</td>\n",
       "      <td>doljiggu doljikku straight shoot frill narrativeannyeong yeoreobun annyoung yorobun hey name peter liptak author first edition much rat tail korean slang invective euphemism along fabulous co auth...</td>\n",
       "    </tr>\n",
       "    <tr>\n",
       "      <th>405</th>\n",
       "      <td>187763644</td>\n",
       "      <td>What is MUSIC CITY?MUSIC CITY is a narrative feature length film set in New York City. It's a love note to New York, with drama, laughs, inspiration, and characters drawn from real life. And the m...</td>\n",
       "      <td>music city music city narrative feature length film set new york city love note new york drama laugh inspiration character drawn real life music breathtaking music genre focus classical film pay h...</td>\n",
       "    </tr>\n",
       "    <tr>\n",
       "      <th>3972</th>\n",
       "      <td>1674439151</td>\n",
       "      <td>When I first heard about this film project, I automatically had to get involved. I was blown away by the script, the lyrics, the music, the storyboard and concept art that you can imagine how bumm...</td>\n",
       "      <td>first heard film project automatically get involve blown away script lyric music storyboard concept art imagine bum found film production way reach suddenly pop kickstarter mind glory contact dire...</td>\n",
       "    </tr>\n",
       "  </tbody>\n",
       "</table>\n",
       "</div>"
      ],
      "text/plain": [
       "      project_id  \\\n",
       "3594   367456610   \n",
       "3324  1179277958   \n",
       "1722  1098848908   \n",
       "405    187763644   \n",
       "3972  1674439151   \n",
       "\n",
       "                                                                                                                                                                                              description_str  \\\n",
       "3594  Check us out!  We are in the news!We have some big-name media outlets who are excited to hear the stories of the entrepreneurs we meet on the tour and are going to provide great coverage over the ...   \n",
       "3324  ---- Update Oct 1st ----Most of the components to build ControLeo are in our hands now.  We will be going ahead with production regardless of the outcome of this campaign.  Place your pledge now, ...   \n",
       "1722  doljiggu [doljikku] - The Straight-Shooting, no Frills Narrativeannyeong yeoreobun [annyoung yorobun]. Hey all. My name is Peter Liptak. Author of the first edition of As much as a Rat's Tail - Ko...   \n",
       "405   What is MUSIC CITY?MUSIC CITY is a narrative feature length film set in New York City. It's a love note to New York, with drama, laughs, inspiration, and characters drawn from real life. And the m...   \n",
       "3972  When I first heard about this film project, I automatically had to get involved. I was blown away by the script, the lyrics, the music, the storyboard and concept art that you can imagine how bumm...   \n",
       "\n",
       "                                                                                                                                                                                            description_clean  \n",
       "3594  check u news big name medium outlet excite hear story entrepreneur meet tour go provide great coverage summer name come soon jasen lee deseret news write great story u check http www deseretnews c...  \n",
       "3324  update oct 1st component build controleo hand go ahead production regardless outcome campaign place pledge reach target let know get hand controleo pledge know reach thanks idea behind controleoar...  \n",
       "1722  doljiggu doljikku straight shoot frill narrativeannyeong yeoreobun annyoung yorobun hey name peter liptak author first edition much rat tail korean slang invective euphemism along fabulous co auth...  \n",
       "405   music city music city narrative feature length film set new york city love note new york drama laugh inspiration character drawn real life music breathtaking music genre focus classical film pay h...  \n",
       "3972  first heard film project automatically get involve blown away script lyric music storyboard concept art imagine bum found film production way reach suddenly pop kickstarter mind glory contact dire...  "
      ]
     },
     "execution_count": 9,
     "metadata": {},
     "output_type": "execute_result"
    }
   ],
   "source": [
    "descriptions['description_clean'] = descriptions['description_clean'].apply(postag_lemmentization)\n",
    "descriptions.head()"
   ]
  },
  {
   "cell_type": "markdown",
   "id": "5cc215bd-ca43-419c-99fb-9451d6bb14a6",
   "metadata": {},
   "source": [
    "The following code will do some further cleaning by removing all the numbers in the texts."
   ]
  },
  {
   "cell_type": "code",
   "execution_count": 10,
   "id": "1adc6644-0513-4a47-afec-9b2d900fc6e1",
   "metadata": {},
   "outputs": [
    {
     "data": {
      "text/html": [
       "<div>\n",
       "<style scoped>\n",
       "    .dataframe tbody tr th:only-of-type {\n",
       "        vertical-align: middle;\n",
       "    }\n",
       "\n",
       "    .dataframe tbody tr th {\n",
       "        vertical-align: top;\n",
       "    }\n",
       "\n",
       "    .dataframe thead th {\n",
       "        text-align: right;\n",
       "    }\n",
       "</style>\n",
       "<table border=\"1\" class=\"dataframe\">\n",
       "  <thead>\n",
       "    <tr style=\"text-align: right;\">\n",
       "      <th></th>\n",
       "      <th>project_id</th>\n",
       "      <th>description_str</th>\n",
       "      <th>description_clean</th>\n",
       "    </tr>\n",
       "  </thead>\n",
       "  <tbody>\n",
       "    <tr>\n",
       "      <th>3594</th>\n",
       "      <td>367456610</td>\n",
       "      <td>Check us out!  We are in the news!We have some big-name media outlets who are excited to hear the stories of the entrepreneurs we meet on the tour and are going to provide great coverage over the ...</td>\n",
       "      <td>check u news big name medium outlet excite hear story entrepreneur meet tour go provide great coverage summer name come soon jasen lee deseret news write great story u check http www deseretnews c...</td>\n",
       "    </tr>\n",
       "    <tr>\n",
       "      <th>3324</th>\n",
       "      <td>1179277958</td>\n",
       "      <td>---- Update Oct 1st ----Most of the components to build ControLeo are in our hands now.  We will be going ahead with production regardless of the outcome of this campaign.  Place your pledge now, ...</td>\n",
       "      <td>update oct st component build controleo hand go ahead production regardless outcome campaign place pledge reach target let know get hand controleo pledge know reach thanks idea behind controleoard...</td>\n",
       "    </tr>\n",
       "    <tr>\n",
       "      <th>1722</th>\n",
       "      <td>1098848908</td>\n",
       "      <td>doljiggu [doljikku] - The Straight-Shooting, no Frills Narrativeannyeong yeoreobun [annyoung yorobun]. Hey all. My name is Peter Liptak. Author of the first edition of As much as a Rat's Tail - Ko...</td>\n",
       "      <td>doljiggu doljikku straight shoot frill narrativeannyeong yeoreobun annyoung yorobun hey name peter liptak author first edition much rat tail korean slang invective euphemism along fabulous co auth...</td>\n",
       "    </tr>\n",
       "    <tr>\n",
       "      <th>405</th>\n",
       "      <td>187763644</td>\n",
       "      <td>What is MUSIC CITY?MUSIC CITY is a narrative feature length film set in New York City. It's a love note to New York, with drama, laughs, inspiration, and characters drawn from real life. And the m...</td>\n",
       "      <td>music city music city narrative feature length film set new york city love note new york drama laugh inspiration character drawn real life music breathtaking music genre focus classical film pay h...</td>\n",
       "    </tr>\n",
       "    <tr>\n",
       "      <th>3972</th>\n",
       "      <td>1674439151</td>\n",
       "      <td>When I first heard about this film project, I automatically had to get involved. I was blown away by the script, the lyrics, the music, the storyboard and concept art that you can imagine how bumm...</td>\n",
       "      <td>first heard film project automatically get involve blown away script lyric music storyboard concept art imagine bum found film production way reach suddenly pop kickstarter mind glory contact dire...</td>\n",
       "    </tr>\n",
       "  </tbody>\n",
       "</table>\n",
       "</div>"
      ],
      "text/plain": [
       "      project_id  \\\n",
       "3594   367456610   \n",
       "3324  1179277958   \n",
       "1722  1098848908   \n",
       "405    187763644   \n",
       "3972  1674439151   \n",
       "\n",
       "                                                                                                                                                                                              description_str  \\\n",
       "3594  Check us out!  We are in the news!We have some big-name media outlets who are excited to hear the stories of the entrepreneurs we meet on the tour and are going to provide great coverage over the ...   \n",
       "3324  ---- Update Oct 1st ----Most of the components to build ControLeo are in our hands now.  We will be going ahead with production regardless of the outcome of this campaign.  Place your pledge now, ...   \n",
       "1722  doljiggu [doljikku] - The Straight-Shooting, no Frills Narrativeannyeong yeoreobun [annyoung yorobun]. Hey all. My name is Peter Liptak. Author of the first edition of As much as a Rat's Tail - Ko...   \n",
       "405   What is MUSIC CITY?MUSIC CITY is a narrative feature length film set in New York City. It's a love note to New York, with drama, laughs, inspiration, and characters drawn from real life. And the m...   \n",
       "3972  When I first heard about this film project, I automatically had to get involved. I was blown away by the script, the lyrics, the music, the storyboard and concept art that you can imagine how bumm...   \n",
       "\n",
       "                                                                                                                                                                                            description_clean  \n",
       "3594  check u news big name medium outlet excite hear story entrepreneur meet tour go provide great coverage summer name come soon jasen lee deseret news write great story u check http www deseretnews c...  \n",
       "3324  update oct st component build controleo hand go ahead production regardless outcome campaign place pledge reach target let know get hand controleo pledge know reach thanks idea behind controleoard...  \n",
       "1722  doljiggu doljikku straight shoot frill narrativeannyeong yeoreobun annyoung yorobun hey name peter liptak author first edition much rat tail korean slang invective euphemism along fabulous co auth...  \n",
       "405   music city music city narrative feature length film set new york city love note new york drama laugh inspiration character drawn real life music breathtaking music genre focus classical film pay h...  \n",
       "3972  first heard film project automatically get involve blown away script lyric music storyboard concept art imagine bum found film production way reach suddenly pop kickstarter mind glory contact dire...  "
      ]
     },
     "execution_count": 10,
     "metadata": {},
     "output_type": "execute_result"
    }
   ],
   "source": [
    "descriptions['description_clean'] = descriptions['description_clean'].str.replace('\\d+', '', regex=True)\n",
    "descriptions.head()"
   ]
  },
  {
   "cell_type": "markdown",
   "id": "c772a63f-6e1a-4ad4-ac1e-db2832b86c7f",
   "metadata": {},
   "source": [
    "## Task 2 Use TF-IDF to represent text and calculate similarity\n",
    "In the second task, you will calculate cosine similarity from TF-IDF representation of document. \n",
    "\n",
    "In the following code, the `descriptions` dataframe will be randomly split into one main sample and one small test sample (3 project descriptions). \n",
    "\n",
    "Then what you are going to do are: \n",
    "\n",
    "(1) build TF-IDF vector representation from `desc_main` sample with `description_clean` column and show the shape of TF-IDF matrix; \n",
    "\n",
    "(2) for each of the three project descriptions in the `desc_test`, find the most similar project from `desc_main` sample."
   ]
  },
  {
   "cell_type": "code",
   "execution_count": 11,
   "id": "30a1a074-0e7b-4c7e-ad98-2a333c9a4234",
   "metadata": {},
   "outputs": [],
   "source": [
    "desc_test = descriptions.sample(3)\n",
    "desc_main = descriptions.drop(desc_test.index)"
   ]
  },
  {
   "cell_type": "markdown",
   "id": "8c7803c0-2482-4bb1-9fde-b124f0db2d3f",
   "metadata": {},
   "source": [
    "### `Task 2.1` TF-IDF\n",
    "Build TF-IDF vector representation for the project descriptions in `desc_main` and show the `shape` of TF-IDF matrix. When building TF-IDF matrix, only use up to top `500` terms. Use CountVectorizer and TF-IDF transformer to build the matrices. Consider `9.Chatbot.ipynb` as a reference."
   ]
  },
  {
   "cell_type": "code",
   "execution_count": 12,
   "id": "e9effb17-9d0a-4f53-b7b3-45bea71e1b08",
   "metadata": {},
   "outputs": [
    {
     "data": {
      "text/plain": [
       "(997, 500)"
      ]
     },
     "execution_count": 12,
     "metadata": {},
     "output_type": "execute_result"
    }
   ],
   "source": [
    "#Your code to build TF-IDF vectorizer from desc_main['description_clean']\n",
    "from sklearn.feature_extraction.text import TfidfTransformer,CountVectorizer\n",
    "vectorizer = CountVectorizer(max_features=500)\n",
    "tfidf =TfidfTransformer()\n",
    "tf_vector = vectorizer.fit_transform(desc_main['description_clean'])\n",
    "tfidf_vector = tfidf.fit_transform(tf_vector)\n",
    "tfidf_vector.shape"
   ]
  },
  {
   "cell_type": "markdown",
   "id": "29f2e8f7-b440-432f-9546-53a7c9888506",
   "metadata": {},
   "source": [
    "### `Task 2.2` Search Similar Project"
   ]
  },
  {
   "cell_type": "markdown",
   "id": "97f5caed-c264-4ac1-a58c-6e76562cb3f2",
   "metadata": {},
   "source": [
    "Now you need to find the project_ids and descriptions in `desc_test`. The code below shows the three projects in that dataframe."
   ]
  },
  {
   "cell_type": "code",
   "execution_count": 13,
   "id": "725f5d70-912b-49bb-ab9e-9ef8530f7040",
   "metadata": {},
   "outputs": [
    {
     "data": {
      "text/html": [
       "<div>\n",
       "<style scoped>\n",
       "    .dataframe tbody tr th:only-of-type {\n",
       "        vertical-align: middle;\n",
       "    }\n",
       "\n",
       "    .dataframe tbody tr th {\n",
       "        vertical-align: top;\n",
       "    }\n",
       "\n",
       "    .dataframe thead th {\n",
       "        text-align: right;\n",
       "    }\n",
       "</style>\n",
       "<table border=\"1\" class=\"dataframe\">\n",
       "  <thead>\n",
       "    <tr style=\"text-align: right;\">\n",
       "      <th></th>\n",
       "      <th>project_id</th>\n",
       "      <th>description_str</th>\n",
       "      <th>description_clean</th>\n",
       "    </tr>\n",
       "  </thead>\n",
       "  <tbody>\n",
       "    <tr>\n",
       "      <th>551</th>\n",
       "      <td>731137767</td>\n",
       "      <td>The Finex 12\" Cast Iron Skillet is a long overdue redesign of a true American classic. \\nWOW! Thanks to you, our backers, we have reached an amazing 800%+ of our goal!  The Finex team and I will s...</td>\n",
       "      <td>finex  cast iron skillet long overdue redesign true american classic wow thanks backer reach amaze  goal finex team strive live level confidence show u product please stay contact go www finexusa ...</td>\n",
       "    </tr>\n",
       "    <tr>\n",
       "      <th>4450</th>\n",
       "      <td>2056203251</td>\n",
       "      <td>The Goal\\nI'm determined to complete the last three paintings of my Gameboardom series of twelve large-scale paintings -- 'playable' board game parodies that are narratives on our society &amp; cultur...</td>\n",
       "      <td>goal determine complete last three painting gameboardom series twelve large scale painting playable board game parody narrative society culture memorialize entire series meticulously craft  page f...</td>\n",
       "    </tr>\n",
       "    <tr>\n",
       "      <th>2748</th>\n",
       "      <td>1030934342</td>\n",
       "      <td>*** READ OUR CURRENT ISSUE: As a celebration of finishing the Kickstarter, we've made our current issue out on December 18th (#32) free to read on the Web until Friday morning. ****** FUNDING UPDA...</td>\n",
       "      <td>read current issue celebration finish kickstarter make current issue december th  free read web friday morning funding update thanks everyone reach goal already pass still early bird special left ...</td>\n",
       "    </tr>\n",
       "  </tbody>\n",
       "</table>\n",
       "</div>"
      ],
      "text/plain": [
       "      project_id  \\\n",
       "551    731137767   \n",
       "4450  2056203251   \n",
       "2748  1030934342   \n",
       "\n",
       "                                                                                                                                                                                              description_str  \\\n",
       "551   The Finex 12\" Cast Iron Skillet is a long overdue redesign of a true American classic. \\nWOW! Thanks to you, our backers, we have reached an amazing 800%+ of our goal!  The Finex team and I will s...   \n",
       "4450  The Goal\\nI'm determined to complete the last three paintings of my Gameboardom series of twelve large-scale paintings -- 'playable' board game parodies that are narratives on our society & cultur...   \n",
       "2748  *** READ OUR CURRENT ISSUE: As a celebration of finishing the Kickstarter, we've made our current issue out on December 18th (#32) free to read on the Web until Friday morning. ****** FUNDING UPDA...   \n",
       "\n",
       "                                                                                                                                                                                            description_clean  \n",
       "551   finex  cast iron skillet long overdue redesign true american classic wow thanks backer reach amaze  goal finex team strive live level confidence show u product please stay contact go www finexusa ...  \n",
       "4450  goal determine complete last three painting gameboardom series twelve large scale painting playable board game parody narrative society culture memorialize entire series meticulously craft  page f...  \n",
       "2748  read current issue celebration finish kickstarter make current issue december th  free read web friday morning funding update thanks everyone reach goal already pass still early bird special left ...  "
      ]
     },
     "execution_count": 13,
     "metadata": {},
     "output_type": "execute_result"
    }
   ],
   "source": [
    "desc_test.head()"
   ]
  },
  {
   "cell_type": "markdown",
   "id": "e6167cb2-a6c8-407c-9764-8fb9de35ecc2",
   "metadata": {},
   "source": [
    "For these three projects in `desc_test`, find the most similar project for each of them in `desc_main`. Print the `project_id` of the most similar project description and the corresponding `cosine similarity`. \n",
    "\n",
    "Edit the headings below to replace `project_id` with the three `project_id`s you get and then implement your code."
   ]
  },
  {
   "cell_type": "markdown",
   "id": "e1ef5362-bfa9-409f-a44c-0b2273fb9d3e",
   "metadata": {},
   "source": [
    "#### Get the most similar project for `731137767`"
   ]
  },
  {
   "cell_type": "markdown",
   "id": "844224dc-b924-45ba-baf5-4df6c94a08c9",
   "metadata": {},
   "source": [
    "Using this line of code to get project description with a given project_id: \n",
    "\n",
    "`project_desc = desc_test[desc_test['project_id']==1617375102]['description_clean'].values`"
   ]
  },
  {
   "cell_type": "code",
   "execution_count": 17,
   "id": "ac971b68-0dbc-45d6-8fcf-e9a80b4729ab",
   "metadata": {},
   "outputs": [
    {
     "name": "stdout",
     "output_type": "stream",
     "text": [
      "0.47640171237842427\n",
      "868\n",
      "1036906641\n"
     ]
    }
   ],
   "source": [
    "#Your code to get the most similar project for project 1 from the TF-IDF vectorizer\n",
    "import numpy as np\n",
    "from sklearn.metrics.pairwise import cosine_similarity\n",
    "\n",
    "project_desc = desc_test[desc_test['project_id']==731137767]['description_clean'].values\n",
    "desc_tf_vector = vectorizer.transform(project_desc)\n",
    "desc_tfidf_vector = tfidf.fit_transform(desc_tf_vector)\n",
    "\n",
    "cos_sim = max(cosine_similarity(desc_tfidf_vector, tfidf_vector)[0])\n",
    "desc_index = np.argmax(cosine_similarity(desc_tfidf_vector, tfidf_vector)[0])\n",
    "\n",
    "#Print the similarity score and corresponding project_id\n",
    "print(cos_sim)\n",
    "print(desc_index)\n",
    "print(desc_main.iloc[desc_index]['project_id'])"
   ]
  },
  {
   "cell_type": "markdown",
   "id": "95c71ced-0328-47d1-a277-1475a62bec08",
   "metadata": {},
   "source": [
    "#### Get the most similar project for `2056203251`"
   ]
  },
  {
   "cell_type": "code",
   "execution_count": 18,
   "id": "126f8b14-5316-4788-ae6b-115151d33e91",
   "metadata": {},
   "outputs": [
    {
     "name": "stdout",
     "output_type": "stream",
     "text": [
      "0.5470147137389407\n",
      "751\n",
      "742576568\n"
     ]
    }
   ],
   "source": [
    "#Your code to get the most similar project for project 2 from the TF-IDF vectorizer \n",
    "project_desc = desc_test[desc_test['project_id']==2056203251]['description_clean'].values\n",
    "desc_tf_vector = vectorizer.transform(project_desc)\n",
    "desc_tfidf_vector = tfidf.fit_transform(desc_tf_vector)\n",
    "\n",
    "cos_sim = max(cosine_similarity(desc_tfidf_vector, tfidf_vector)[0])\n",
    "desc_index = np.argmax(cosine_similarity(desc_tfidf_vector, tfidf_vector)[0])\n",
    "\n",
    "#Print the similarity score and corresponding project_id\n",
    "print(cos_sim)\n",
    "print(desc_index)\n",
    "print(desc_main.iloc[desc_index]['project_id'])"
   ]
  },
  {
   "cell_type": "markdown",
   "id": "11a398a0-76ea-4533-bb32-a190b7688b4a",
   "metadata": {},
   "source": [
    "#### Get the most similar project for `1030934342`"
   ]
  },
  {
   "cell_type": "code",
   "execution_count": 19,
   "id": "95304ea7-c017-4899-ab1b-ded9133612d3",
   "metadata": {},
   "outputs": [
    {
     "name": "stdout",
     "output_type": "stream",
     "text": [
      "0.6372192255437179\n",
      "416\n",
      "884166558\n"
     ]
    }
   ],
   "source": [
    "#Your code to get the most similar project for project 3 from the TF-IDF vectorizer \n",
    "project_desc = desc_test[desc_test['project_id']==1030934342]['description_clean'].values\n",
    "desc_tf_vector = vectorizer.transform(project_desc)\n",
    "desc_tfidf_vector = tfidf.fit_transform(desc_tf_vector)\n",
    "\n",
    "cos_sim = max(cosine_similarity(desc_tfidf_vector, tfidf_vector)[0])\n",
    "desc_index = np.argmax(cosine_similarity(desc_tfidf_vector, tfidf_vector)[0])\n",
    "\n",
    "#Print the similarity score and corresponding project_id\n",
    "print(cos_sim)\n",
    "print(desc_index)\n",
    "print(desc_main.iloc[desc_index]['project_id'])"
   ]
  },
  {
   "cell_type": "code",
   "execution_count": null,
   "id": "f192e7be-e768-4f24-91bb-1fc73e4b5bd8",
   "metadata": {},
   "outputs": [],
   "source": []
  }
 ],
 "metadata": {
  "kernelspec": {
   "display_name": "Python 3 (ipykernel)",
   "language": "python",
   "name": "python3"
  },
  "language_info": {
   "codemirror_mode": {
    "name": "ipython",
    "version": 3
   },
   "file_extension": ".py",
   "mimetype": "text/x-python",
   "name": "python",
   "nbconvert_exporter": "python",
   "pygments_lexer": "ipython3",
   "version": "3.9.13"
  }
 },
 "nbformat": 4,
 "nbformat_minor": 5
}
